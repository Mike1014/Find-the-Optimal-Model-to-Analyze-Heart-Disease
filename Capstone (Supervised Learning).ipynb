{
 "cells": [
  {
   "cell_type": "code",
   "execution_count": 1,
   "metadata": {
    "collapsed": true
   },
   "outputs": [],
   "source": [
    "import pandas as pd\n",
    "import numpy as np\n",
    "import seaborn as sns\n",
    "import scipy\n",
    "import warnings\n",
    "import matplotlib.pyplot as plt\n",
    "\n",
    "%matplotlib inline\n",
    "# Suppress annoying harmless error.\n",
    "warnings.filterwarnings(\n",
    "    action=\"ignore\",\n",
    "    module=\"scipy\",\n",
    "    message=\"^internal gelsd\"\n",
    ")"
   ]
  },
  {
   "cell_type": "code",
   "execution_count": 2,
   "metadata": {
    "collapsed": true
   },
   "outputs": [],
   "source": [
    "from sklearn import ensemble\n",
    "from sklearn.kernel_approximation import RBFSampler\n",
    "from sklearn.linear_model import SGDClassifier    #Linear classifiers (SVM, logistic regression, a.o.) with SGD training.\n",
    "from sklearn.linear_model import LogisticRegression\n",
    "from sklearn.model_selection import cross_val_score\n",
    "from sklearn.model_selection import cross_val_predict\n",
    "from sklearn.preprocessing import Imputer\n",
    "from sklearn.preprocessing import MinMaxScaler\n",
    "from sklearn.neighbors import KNeighborsClassifier\n",
    "from sklearn.metrics import accuracy_score\n",
    "from scipy.sparse import coo_matrix\n",
    "from sklearn.utils import shuffle\n",
    "from sklearn.svm import SVC\n",
    "from sklearn.cross_decomposition import PLSRegression\n",
    "from sklearn.preprocessing import StandardScaler\n",
    "from sklearn.decomposition import PCA "
   ]
  },
  {
   "cell_type": "markdown",
   "metadata": {},
   "source": [
    "> **Load data**"
   ]
  },
  {
   "cell_type": "code",
   "execution_count": 25,
   "metadata": {
    "collapsed": true,
    "scrolled": true
   },
   "outputs": [],
   "source": [
    "col_names = ['Age', 'Sex', 'CP', 'Trestbps', 'Chol', 'FBS', 'Restecg', 'Thalach',\n",
    "             'Exang', 'Oldpeak', 'Slope', 'CA', 'Thal', 'Num']\n",
    "df = pd.read_csv('http://archive.ics.uci.edu/ml/machine-learning-databases/heart-disease/processed.cleveland.data',\n",
    "                  names = col_names)"
   ]
  },
  {
   "cell_type": "markdown",
   "metadata": {},
   "source": [
    "> abbreviation of each column\n",
    "    \n",
    "    CP = Chest Pain ( 1 - typical angina, 2 - atypical angina, 3 - non-anginal pain, 4 - asymptomatic )\n",
    "    Trestbps = Resting Blood Pressure\n",
    "    Chol = Serum Cholestoral\n",
    "    FBS = Fasting Blood Sugar ( 0 - false, 1 - true)\n",
    "    Restecg = Resting Electrocardiographic Results ( 0 - normal, 1 - little abnormal, 2 - sympton )\n",
    "    Thalach = Maximum Heart Rate\n",
    "    Exang = Exercise Induced Angina ( 0 - no, 1 - yes )\n",
    "    Oldpeak = ST Depression Induced by Exercise\n",
    "    Slope = Slope of the Peak Exercise ST Segment ( 1 - upslople, 2 - flat, 3 - downslope )\n",
    "    CA = Number of Major Vessels ( 0 - 3 )\n",
    "    Thal = ( 3 - normal, 6 - fixed defect, 7 - reversable defect )\n",
    "    *Num = Diagnosis of Heart Disease ( Value 0 - < 50% diameter narrowing; Value 1 - > 50% diameter narrowing )"
   ]
  },
  {
   "cell_type": "markdown",
   "metadata": {},
   "source": [
    "> **Learn about the dataset**"
   ]
  },
  {
   "cell_type": "code",
   "execution_count": 26,
   "metadata": {
    "scrolled": true
   },
   "outputs": [
    {
     "name": "stdout",
     "output_type": "stream",
     "text": [
      "<class 'pandas.core.frame.DataFrame'>\n",
      "RangeIndex: 303 entries, 0 to 302\n",
      "Data columns (total 14 columns):\n",
      "Age         303 non-null float64\n",
      "Sex         303 non-null float64\n",
      "CP          303 non-null float64\n",
      "Trestbps    303 non-null float64\n",
      "Chol        303 non-null float64\n",
      "FBS         303 non-null float64\n",
      "Restecg     303 non-null float64\n",
      "Thalach     303 non-null float64\n",
      "Exang       303 non-null float64\n",
      "Oldpeak     303 non-null float64\n",
      "Slope       303 non-null float64\n",
      "CA          303 non-null object\n",
      "Thal        303 non-null object\n",
      "Num         303 non-null int64\n",
      "dtypes: float64(11), int64(1), object(2)\n",
      "memory usage: 33.2+ KB\n"
     ]
    }
   ],
   "source": [
    "df.info()"
   ]
  },
  {
   "cell_type": "code",
   "execution_count": 27,
   "metadata": {
    "scrolled": true
   },
   "outputs": [
    {
     "data": {
      "text/html": [
       "<div>\n",
       "<style>\n",
       "    .dataframe thead tr:only-child th {\n",
       "        text-align: right;\n",
       "    }\n",
       "\n",
       "    .dataframe thead th {\n",
       "        text-align: left;\n",
       "    }\n",
       "\n",
       "    .dataframe tbody tr th {\n",
       "        vertical-align: top;\n",
       "    }\n",
       "</style>\n",
       "<table border=\"1\" class=\"dataframe\">\n",
       "  <thead>\n",
       "    <tr style=\"text-align: right;\">\n",
       "      <th></th>\n",
       "      <th>Age</th>\n",
       "      <th>Sex</th>\n",
       "      <th>CP</th>\n",
       "      <th>Trestbps</th>\n",
       "      <th>Chol</th>\n",
       "      <th>FBS</th>\n",
       "      <th>Restecg</th>\n",
       "      <th>Thalach</th>\n",
       "      <th>Exang</th>\n",
       "      <th>Oldpeak</th>\n",
       "      <th>Slope</th>\n",
       "      <th>Num</th>\n",
       "    </tr>\n",
       "  </thead>\n",
       "  <tbody>\n",
       "    <tr>\n",
       "      <th>count</th>\n",
       "      <td>303.000000</td>\n",
       "      <td>303.000000</td>\n",
       "      <td>303.000000</td>\n",
       "      <td>303.000000</td>\n",
       "      <td>303.000000</td>\n",
       "      <td>303.000000</td>\n",
       "      <td>303.000000</td>\n",
       "      <td>303.000000</td>\n",
       "      <td>303.000000</td>\n",
       "      <td>303.000000</td>\n",
       "      <td>303.000000</td>\n",
       "      <td>303.000000</td>\n",
       "    </tr>\n",
       "    <tr>\n",
       "      <th>mean</th>\n",
       "      <td>54.438944</td>\n",
       "      <td>0.679868</td>\n",
       "      <td>3.158416</td>\n",
       "      <td>131.689769</td>\n",
       "      <td>246.693069</td>\n",
       "      <td>0.148515</td>\n",
       "      <td>0.990099</td>\n",
       "      <td>149.607261</td>\n",
       "      <td>0.326733</td>\n",
       "      <td>1.039604</td>\n",
       "      <td>1.600660</td>\n",
       "      <td>0.937294</td>\n",
       "    </tr>\n",
       "    <tr>\n",
       "      <th>std</th>\n",
       "      <td>9.038662</td>\n",
       "      <td>0.467299</td>\n",
       "      <td>0.960126</td>\n",
       "      <td>17.599748</td>\n",
       "      <td>51.776918</td>\n",
       "      <td>0.356198</td>\n",
       "      <td>0.994971</td>\n",
       "      <td>22.875003</td>\n",
       "      <td>0.469794</td>\n",
       "      <td>1.161075</td>\n",
       "      <td>0.616226</td>\n",
       "      <td>1.228536</td>\n",
       "    </tr>\n",
       "    <tr>\n",
       "      <th>min</th>\n",
       "      <td>29.000000</td>\n",
       "      <td>0.000000</td>\n",
       "      <td>1.000000</td>\n",
       "      <td>94.000000</td>\n",
       "      <td>126.000000</td>\n",
       "      <td>0.000000</td>\n",
       "      <td>0.000000</td>\n",
       "      <td>71.000000</td>\n",
       "      <td>0.000000</td>\n",
       "      <td>0.000000</td>\n",
       "      <td>1.000000</td>\n",
       "      <td>0.000000</td>\n",
       "    </tr>\n",
       "    <tr>\n",
       "      <th>25%</th>\n",
       "      <td>48.000000</td>\n",
       "      <td>0.000000</td>\n",
       "      <td>3.000000</td>\n",
       "      <td>120.000000</td>\n",
       "      <td>211.000000</td>\n",
       "      <td>0.000000</td>\n",
       "      <td>0.000000</td>\n",
       "      <td>133.500000</td>\n",
       "      <td>0.000000</td>\n",
       "      <td>0.000000</td>\n",
       "      <td>1.000000</td>\n",
       "      <td>0.000000</td>\n",
       "    </tr>\n",
       "    <tr>\n",
       "      <th>50%</th>\n",
       "      <td>56.000000</td>\n",
       "      <td>1.000000</td>\n",
       "      <td>3.000000</td>\n",
       "      <td>130.000000</td>\n",
       "      <td>241.000000</td>\n",
       "      <td>0.000000</td>\n",
       "      <td>1.000000</td>\n",
       "      <td>153.000000</td>\n",
       "      <td>0.000000</td>\n",
       "      <td>0.800000</td>\n",
       "      <td>2.000000</td>\n",
       "      <td>0.000000</td>\n",
       "    </tr>\n",
       "    <tr>\n",
       "      <th>75%</th>\n",
       "      <td>61.000000</td>\n",
       "      <td>1.000000</td>\n",
       "      <td>4.000000</td>\n",
       "      <td>140.000000</td>\n",
       "      <td>275.000000</td>\n",
       "      <td>0.000000</td>\n",
       "      <td>2.000000</td>\n",
       "      <td>166.000000</td>\n",
       "      <td>1.000000</td>\n",
       "      <td>1.600000</td>\n",
       "      <td>2.000000</td>\n",
       "      <td>2.000000</td>\n",
       "    </tr>\n",
       "    <tr>\n",
       "      <th>max</th>\n",
       "      <td>77.000000</td>\n",
       "      <td>1.000000</td>\n",
       "      <td>4.000000</td>\n",
       "      <td>200.000000</td>\n",
       "      <td>564.000000</td>\n",
       "      <td>1.000000</td>\n",
       "      <td>2.000000</td>\n",
       "      <td>202.000000</td>\n",
       "      <td>1.000000</td>\n",
       "      <td>6.200000</td>\n",
       "      <td>3.000000</td>\n",
       "      <td>4.000000</td>\n",
       "    </tr>\n",
       "  </tbody>\n",
       "</table>\n",
       "</div>"
      ],
      "text/plain": [
       "              Age         Sex          CP    Trestbps        Chol         FBS  \\\n",
       "count  303.000000  303.000000  303.000000  303.000000  303.000000  303.000000   \n",
       "mean    54.438944    0.679868    3.158416  131.689769  246.693069    0.148515   \n",
       "std      9.038662    0.467299    0.960126   17.599748   51.776918    0.356198   \n",
       "min     29.000000    0.000000    1.000000   94.000000  126.000000    0.000000   \n",
       "25%     48.000000    0.000000    3.000000  120.000000  211.000000    0.000000   \n",
       "50%     56.000000    1.000000    3.000000  130.000000  241.000000    0.000000   \n",
       "75%     61.000000    1.000000    4.000000  140.000000  275.000000    0.000000   \n",
       "max     77.000000    1.000000    4.000000  200.000000  564.000000    1.000000   \n",
       "\n",
       "          Restecg     Thalach       Exang     Oldpeak       Slope         Num  \n",
       "count  303.000000  303.000000  303.000000  303.000000  303.000000  303.000000  \n",
       "mean     0.990099  149.607261    0.326733    1.039604    1.600660    0.937294  \n",
       "std      0.994971   22.875003    0.469794    1.161075    0.616226    1.228536  \n",
       "min      0.000000   71.000000    0.000000    0.000000    1.000000    0.000000  \n",
       "25%      0.000000  133.500000    0.000000    0.000000    1.000000    0.000000  \n",
       "50%      1.000000  153.000000    0.000000    0.800000    2.000000    0.000000  \n",
       "75%      2.000000  166.000000    1.000000    1.600000    2.000000    2.000000  \n",
       "max      2.000000  202.000000    1.000000    6.200000    3.000000    4.000000  "
      ]
     },
     "execution_count": 27,
     "metadata": {},
     "output_type": "execute_result"
    }
   ],
   "source": [
    "df.describe()"
   ]
  },
  {
   "cell_type": "code",
   "execution_count": 28,
   "metadata": {
    "scrolled": false
   },
   "outputs": [
    {
     "data": {
      "text/html": [
       "<div>\n",
       "<style>\n",
       "    .dataframe thead tr:only-child th {\n",
       "        text-align: right;\n",
       "    }\n",
       "\n",
       "    .dataframe thead th {\n",
       "        text-align: left;\n",
       "    }\n",
       "\n",
       "    .dataframe tbody tr th {\n",
       "        vertical-align: top;\n",
       "    }\n",
       "</style>\n",
       "<table border=\"1\" class=\"dataframe\">\n",
       "  <thead>\n",
       "    <tr style=\"text-align: right;\">\n",
       "      <th></th>\n",
       "      <th>CA</th>\n",
       "      <th>Thal</th>\n",
       "    </tr>\n",
       "  </thead>\n",
       "  <tbody>\n",
       "    <tr>\n",
       "      <th>count</th>\n",
       "      <td>303</td>\n",
       "      <td>303</td>\n",
       "    </tr>\n",
       "    <tr>\n",
       "      <th>unique</th>\n",
       "      <td>5</td>\n",
       "      <td>4</td>\n",
       "    </tr>\n",
       "    <tr>\n",
       "      <th>top</th>\n",
       "      <td>0.0</td>\n",
       "      <td>3.0</td>\n",
       "    </tr>\n",
       "    <tr>\n",
       "      <th>freq</th>\n",
       "      <td>176</td>\n",
       "      <td>166</td>\n",
       "    </tr>\n",
       "  </tbody>\n",
       "</table>\n",
       "</div>"
      ],
      "text/plain": [
       "         CA Thal\n",
       "count   303  303\n",
       "unique    5    4\n",
       "top     0.0  3.0\n",
       "freq    176  166"
      ]
     },
     "execution_count": 28,
     "metadata": {},
     "output_type": "execute_result"
    }
   ],
   "source": [
    "df.describe(include = [np.object])"
   ]
  },
  {
   "cell_type": "code",
   "execution_count": 29,
   "metadata": {},
   "outputs": [
    {
     "data": {
      "text/plain": [
       "CA\n",
       "0.0    176\n",
       "1.0     65\n",
       "2.0     38\n",
       "3.0     20\n",
       "?        4\n",
       "Name: CA, dtype: int64"
      ]
     },
     "execution_count": 29,
     "metadata": {},
     "output_type": "execute_result"
    }
   ],
   "source": [
    "df.groupby('CA')['CA'].count()"
   ]
  },
  {
   "cell_type": "code",
   "execution_count": 30,
   "metadata": {},
   "outputs": [
    {
     "data": {
      "text/plain": [
       "0"
      ]
     },
     "execution_count": 30,
     "metadata": {},
     "output_type": "execute_result"
    }
   ],
   "source": [
    "df['CA'][df['CA'] == 0.0].count()"
   ]
  },
  {
   "cell_type": "code",
   "execution_count": 31,
   "metadata": {},
   "outputs": [
    {
     "data": {
      "text/html": [
       "<div>\n",
       "<style>\n",
       "    .dataframe thead tr:only-child th {\n",
       "        text-align: right;\n",
       "    }\n",
       "\n",
       "    .dataframe thead th {\n",
       "        text-align: left;\n",
       "    }\n",
       "\n",
       "    .dataframe tbody tr th {\n",
       "        vertical-align: top;\n",
       "    }\n",
       "</style>\n",
       "<table border=\"1\" class=\"dataframe\">\n",
       "  <thead>\n",
       "    <tr style=\"text-align: right;\">\n",
       "      <th></th>\n",
       "      <th>Age</th>\n",
       "      <th>Sex</th>\n",
       "      <th>CP</th>\n",
       "      <th>Trestbps</th>\n",
       "      <th>Chol</th>\n",
       "      <th>FBS</th>\n",
       "      <th>Restecg</th>\n",
       "      <th>Thalach</th>\n",
       "      <th>Exang</th>\n",
       "      <th>Oldpeak</th>\n",
       "      <th>Slope</th>\n",
       "      <th>CA</th>\n",
       "      <th>Thal</th>\n",
       "      <th>Num</th>\n",
       "    </tr>\n",
       "  </thead>\n",
       "  <tbody>\n",
       "    <tr>\n",
       "      <th>166</th>\n",
       "      <td>52.0</td>\n",
       "      <td>1.0</td>\n",
       "      <td>3.0</td>\n",
       "      <td>138.0</td>\n",
       "      <td>223.0</td>\n",
       "      <td>0.0</td>\n",
       "      <td>0.0</td>\n",
       "      <td>169.0</td>\n",
       "      <td>0.0</td>\n",
       "      <td>0.0</td>\n",
       "      <td>1.0</td>\n",
       "      <td>?</td>\n",
       "      <td>3.0</td>\n",
       "      <td>0</td>\n",
       "    </tr>\n",
       "    <tr>\n",
       "      <th>192</th>\n",
       "      <td>43.0</td>\n",
       "      <td>1.0</td>\n",
       "      <td>4.0</td>\n",
       "      <td>132.0</td>\n",
       "      <td>247.0</td>\n",
       "      <td>1.0</td>\n",
       "      <td>2.0</td>\n",
       "      <td>143.0</td>\n",
       "      <td>1.0</td>\n",
       "      <td>0.1</td>\n",
       "      <td>2.0</td>\n",
       "      <td>?</td>\n",
       "      <td>7.0</td>\n",
       "      <td>1</td>\n",
       "    </tr>\n",
       "    <tr>\n",
       "      <th>287</th>\n",
       "      <td>58.0</td>\n",
       "      <td>1.0</td>\n",
       "      <td>2.0</td>\n",
       "      <td>125.0</td>\n",
       "      <td>220.0</td>\n",
       "      <td>0.0</td>\n",
       "      <td>0.0</td>\n",
       "      <td>144.0</td>\n",
       "      <td>0.0</td>\n",
       "      <td>0.4</td>\n",
       "      <td>2.0</td>\n",
       "      <td>?</td>\n",
       "      <td>7.0</td>\n",
       "      <td>0</td>\n",
       "    </tr>\n",
       "    <tr>\n",
       "      <th>302</th>\n",
       "      <td>38.0</td>\n",
       "      <td>1.0</td>\n",
       "      <td>3.0</td>\n",
       "      <td>138.0</td>\n",
       "      <td>175.0</td>\n",
       "      <td>0.0</td>\n",
       "      <td>0.0</td>\n",
       "      <td>173.0</td>\n",
       "      <td>0.0</td>\n",
       "      <td>0.0</td>\n",
       "      <td>1.0</td>\n",
       "      <td>?</td>\n",
       "      <td>3.0</td>\n",
       "      <td>0</td>\n",
       "    </tr>\n",
       "  </tbody>\n",
       "</table>\n",
       "</div>"
      ],
      "text/plain": [
       "      Age  Sex   CP  Trestbps   Chol  FBS  Restecg  Thalach  Exang  Oldpeak  \\\n",
       "166  52.0  1.0  3.0     138.0  223.0  0.0      0.0    169.0    0.0      0.0   \n",
       "192  43.0  1.0  4.0     132.0  247.0  1.0      2.0    143.0    1.0      0.1   \n",
       "287  58.0  1.0  2.0     125.0  220.0  0.0      0.0    144.0    0.0      0.4   \n",
       "302  38.0  1.0  3.0     138.0  175.0  0.0      0.0    173.0    0.0      0.0   \n",
       "\n",
       "     Slope CA Thal  Num  \n",
       "166    1.0  ?  3.0    0  \n",
       "192    2.0  ?  7.0    1  \n",
       "287    2.0  ?  7.0    0  \n",
       "302    1.0  ?  3.0    0  "
      ]
     },
     "execution_count": 31,
     "metadata": {},
     "output_type": "execute_result"
    }
   ],
   "source": [
    "df.loc[df.CA == '?']"
   ]
  },
  {
   "cell_type": "code",
   "execution_count": 32,
   "metadata": {},
   "outputs": [
    {
     "data": {
      "text/plain": [
       "Thal\n",
       "3.0    166\n",
       "6.0     18\n",
       "7.0    117\n",
       "?        2\n",
       "Name: Thal, dtype: int64"
      ]
     },
     "execution_count": 32,
     "metadata": {},
     "output_type": "execute_result"
    }
   ],
   "source": [
    "df.groupby('Thal')['Thal'].count()"
   ]
  },
  {
   "cell_type": "code",
   "execution_count": 33,
   "metadata": {},
   "outputs": [
    {
     "data": {
      "text/html": [
       "<div>\n",
       "<style>\n",
       "    .dataframe thead tr:only-child th {\n",
       "        text-align: right;\n",
       "    }\n",
       "\n",
       "    .dataframe thead th {\n",
       "        text-align: left;\n",
       "    }\n",
       "\n",
       "    .dataframe tbody tr th {\n",
       "        vertical-align: top;\n",
       "    }\n",
       "</style>\n",
       "<table border=\"1\" class=\"dataframe\">\n",
       "  <thead>\n",
       "    <tr style=\"text-align: right;\">\n",
       "      <th></th>\n",
       "      <th>Age</th>\n",
       "      <th>Sex</th>\n",
       "      <th>CP</th>\n",
       "      <th>Trestbps</th>\n",
       "      <th>Chol</th>\n",
       "      <th>FBS</th>\n",
       "      <th>Restecg</th>\n",
       "      <th>Thalach</th>\n",
       "      <th>Exang</th>\n",
       "      <th>Oldpeak</th>\n",
       "      <th>Slope</th>\n",
       "      <th>CA</th>\n",
       "      <th>Thal</th>\n",
       "      <th>Num</th>\n",
       "    </tr>\n",
       "  </thead>\n",
       "  <tbody>\n",
       "    <tr>\n",
       "      <th>87</th>\n",
       "      <td>53.0</td>\n",
       "      <td>0.0</td>\n",
       "      <td>3.0</td>\n",
       "      <td>128.0</td>\n",
       "      <td>216.0</td>\n",
       "      <td>0.0</td>\n",
       "      <td>2.0</td>\n",
       "      <td>115.0</td>\n",
       "      <td>0.0</td>\n",
       "      <td>0.0</td>\n",
       "      <td>1.0</td>\n",
       "      <td>0.0</td>\n",
       "      <td>?</td>\n",
       "      <td>0</td>\n",
       "    </tr>\n",
       "    <tr>\n",
       "      <th>266</th>\n",
       "      <td>52.0</td>\n",
       "      <td>1.0</td>\n",
       "      <td>4.0</td>\n",
       "      <td>128.0</td>\n",
       "      <td>204.0</td>\n",
       "      <td>1.0</td>\n",
       "      <td>0.0</td>\n",
       "      <td>156.0</td>\n",
       "      <td>1.0</td>\n",
       "      <td>1.0</td>\n",
       "      <td>2.0</td>\n",
       "      <td>0.0</td>\n",
       "      <td>?</td>\n",
       "      <td>2</td>\n",
       "    </tr>\n",
       "  </tbody>\n",
       "</table>\n",
       "</div>"
      ],
      "text/plain": [
       "      Age  Sex   CP  Trestbps   Chol  FBS  Restecg  Thalach  Exang  Oldpeak  \\\n",
       "87   53.0  0.0  3.0     128.0  216.0  0.0      2.0    115.0    0.0      0.0   \n",
       "266  52.0  1.0  4.0     128.0  204.0  1.0      0.0    156.0    1.0      1.0   \n",
       "\n",
       "     Slope   CA Thal  Num  \n",
       "87     1.0  0.0    ?    0  \n",
       "266    2.0  0.0    ?    2  "
      ]
     },
     "execution_count": 33,
     "metadata": {},
     "output_type": "execute_result"
    }
   ],
   "source": [
    "df.loc[df.Thal == '?']"
   ]
  },
  {
   "cell_type": "code",
   "execution_count": 34,
   "metadata": {
    "scrolled": true
   },
   "outputs": [
    {
     "data": {
      "image/png": "[encoded data removed]",
      "text/plain": [
       "<matplotlib.figure.Figure at 0x2c20910fda0>"
      ]
     },
     "metadata": {},
     "output_type": "display_data"
    }
   ],
   "source": [
    "# display a Histogram for the age of the patiences\n",
    "df.hist(column = 'Age')\n",
    "plt.show()"
   ]
  },
  {
   "cell_type": "code",
   "execution_count": 35,
   "metadata": {},
   "outputs": [
    {
     "data": {
      "image/png": "[encoded data removed]",
      "text/plain": [
       "<matplotlib.figure.Figure at 0x2c208f7bb38>"
      ]
     },
     "metadata": {},
     "output_type": "display_data"
    }
   ],
   "source": [
    "# plot Trestbps, Chol, Thalach to identify outliers\n",
    "plt.figure(figsize = (15, 5))\n",
    "\n",
    "plt.subplot(1, 3, 1)\n",
    "plt.hist(df.Trestbps)\n",
    "plt.title('Trestbps')\n",
    "\n",
    "plt.subplot(1, 3, 2)\n",
    "plt.hist(df.Chol)\n",
    "plt.title('Chol')\n",
    "\n",
    "plt.subplot(1, 3, 3)\n",
    "plt.hist(df.Thalach)\n",
    "plt.title('Thalach')\n",
    "\n",
    "plt.savefig('Outliers.png')\n",
    "plt.show()"
   ]
  },
  {
   "cell_type": "markdown",
   "metadata": {},
   "source": [
    "* it seems that chol has an outlier"
   ]
  },
  {
   "cell_type": "code",
   "execution_count": 36,
   "metadata": {},
   "outputs": [
    {
     "name": "stdout",
     "output_type": "stream",
     "text": [
      "\n",
      "Counts of each Value\n",
      "0    164\n",
      "1     55\n",
      "2     36\n",
      "3     35\n",
      "4     13\n",
      "Name: Num, dtype: int64\n",
      "\n",
      "\n"
     ]
    },
    {
     "data": {
      "image/png": "[encoded data removed]",
      "text/plain": [
       "<matplotlib.figure.Figure at 0x2c208fb15f8>"
      ]
     },
     "metadata": {},
     "output_type": "display_data"
    }
   ],
   "source": [
    "# display the counts of targeted variable\n",
    "count_num = pd.value_counts(df['Num'], sort = True)\n",
    "count_num.plot(kind = 'bar')\n",
    "\n",
    "print('\\nCounts of each Value')\n",
    "print(count_num)\n",
    "print('\\n')\n",
    "\n",
    "plt.title('Heart Disease')\n",
    "plt.xlabel('Counts')\n",
    "plt.ylabel('Value')\n",
    "\n",
    "plt.savefig('Target.png')\n",
    "plt.show()"
   ]
  },
  {
   "cell_type": "markdown",
   "metadata": {},
   "source": [
    "* Value 0 - less than 50% diameter narrowing, safe\n",
    "* Value 1~4 - greater than 50% diameter narrowing, higher value is more severe\n",
    "    \n",
    "    => want to turn this into a binary variable"
   ]
  },
  {
   "cell_type": "code",
   "execution_count": 37,
   "metadata": {
    "scrolled": true
   },
   "outputs": [
    {
     "data": {
      "image/png": "[encoded data removed]",
      "text/plain": [
       "<matplotlib.figure.Figure at 0x2c2090fd978>"
      ]
     },
     "metadata": {},
     "output_type": "display_data"
    }
   ],
   "source": [
    "# ** run after cleaning the data **\n",
    "# display the correlation between targeted variable and features\n",
    "plt.subplots(figsize=(12, 9))\n",
    "df_corr = df.corr()\n",
    "sns.heatmap(df_corr)\n",
    "plt.show()"
   ]
  },
  {
   "cell_type": "code",
   "execution_count": 38,
   "metadata": {
    "scrolled": true
   },
   "outputs": [
    {
     "ename": "KeyError",
     "evalue": "'CA'",
     "output_type": "error",
     "traceback": [
      "\u001b[1;31m---------------------------------------------------------------------------\u001b[0m",
      "\u001b[1;31mKeyError\u001b[0m                                  Traceback (most recent call last)",
      "\u001b[1;32mC:\\Users\\Mike\\Anaconda3\\lib\\site-packages\\pandas\\core\\indexes\\base.py\u001b[0m in \u001b[0;36mget_loc\u001b[1;34m(self, key, method, tolerance)\u001b[0m\n\u001b[0;32m   2392\u001b[0m             \u001b[1;32mtry\u001b[0m\u001b[1;33m:\u001b[0m\u001b[1;33m\u001b[0m\u001b[0m\n\u001b[1;32m-> 2393\u001b[1;33m                 \u001b[1;32mreturn\u001b[0m \u001b[0mself\u001b[0m\u001b[1;33m.\u001b[0m\u001b[0m_engine\u001b[0m\u001b[1;33m.\u001b[0m\u001b[0mget_loc\u001b[0m\u001b[1;33m(\u001b[0m\u001b[0mkey\u001b[0m\u001b[1;33m)\u001b[0m\u001b[1;33m\u001b[0m\u001b[0m\n\u001b[0m\u001b[0;32m   2394\u001b[0m             \u001b[1;32mexcept\u001b[0m \u001b[0mKeyError\u001b[0m\u001b[1;33m:\u001b[0m\u001b[1;33m\u001b[0m\u001b[0m\n",
      "\u001b[1;32mpandas\\_libs\\index.pyx\u001b[0m in \u001b[0;36mpandas._libs.index.IndexEngine.get_loc (pandas\\_libs\\index.c:5239)\u001b[1;34m()\u001b[0m\n",
      "\u001b[1;32mpandas\\_libs\\index.pyx\u001b[0m in \u001b[0;36mpandas._libs.index.IndexEngine.get_loc (pandas\\_libs\\index.c:5085)\u001b[1;34m()\u001b[0m\n",
      "\u001b[1;32mpandas\\_libs\\hashtable_class_helper.pxi\u001b[0m in \u001b[0;36mpandas._libs.hashtable.PyObjectHashTable.get_item (pandas\\_libs\\hashtable.c:20405)\u001b[1;34m()\u001b[0m\n",
      "\u001b[1;32mpandas\\_libs\\hashtable_class_helper.pxi\u001b[0m in \u001b[0;36mpandas._libs.hashtable.PyObjectHashTable.get_item (pandas\\_libs\\hashtable.c:20359)\u001b[1;34m()\u001b[0m\n",
      "\u001b[1;31mKeyError\u001b[0m: 'CA'",
      "\nDuring handling of the above exception, another exception occurred:\n",
      "\u001b[1;31mKeyError\u001b[0m                                  Traceback (most recent call last)",
      "\u001b[1;32m<ipython-input-38-cced344d26b7>\u001b[0m in \u001b[0;36m<module>\u001b[1;34m()\u001b[0m\n\u001b[0;32m      4\u001b[0m g = sns.pairplot(df_corr, vars = ['Thalach', 'Age', 'CP', 'Exang', 'Oldpeak', 'Slope', 'CA', 'Thal', 'Num'],\n\u001b[0;32m      5\u001b[0m                  \u001b[0mdiag_kind\u001b[0m \u001b[1;33m=\u001b[0m \u001b[1;34m'kde'\u001b[0m\u001b[1;33m,\u001b[0m\u001b[1;33m\u001b[0m\u001b[0m\n\u001b[1;32m----> 6\u001b[1;33m                  kind = 'reg')\n\u001b[0m",
      "\u001b[1;32mC:\\Users\\Mike\\Anaconda3\\lib\\site-packages\\seaborn\\linearmodels.py\u001b[0m in \u001b[0;36mpairplot\u001b[1;34m(data, hue, hue_order, palette, vars, x_vars, y_vars, kind, diag_kind, markers, size, aspect, dropna, plot_kws, diag_kws, grid_kws)\u001b[0m\n\u001b[0;32m   1610\u001b[0m         \u001b[1;32melif\u001b[0m \u001b[0mdiag_kind\u001b[0m \u001b[1;33m==\u001b[0m \u001b[1;34m\"kde\"\u001b[0m\u001b[1;33m:\u001b[0m\u001b[1;33m\u001b[0m\u001b[0m\n\u001b[0;32m   1611\u001b[0m             \u001b[0mdiag_kws\u001b[0m\u001b[1;33m[\u001b[0m\u001b[1;34m\"legend\"\u001b[0m\u001b[1;33m]\u001b[0m \u001b[1;33m=\u001b[0m \u001b[1;32mFalse\u001b[0m\u001b[1;33m\u001b[0m\u001b[0m\n\u001b[1;32m-> 1612\u001b[1;33m             \u001b[0mgrid\u001b[0m\u001b[1;33m.\u001b[0m\u001b[0mmap_diag\u001b[0m\u001b[1;33m(\u001b[0m\u001b[0mkdeplot\u001b[0m\u001b[1;33m,\u001b[0m \u001b[1;33m**\u001b[0m\u001b[0mdiag_kws\u001b[0m\u001b[1;33m)\u001b[0m\u001b[1;33m\u001b[0m\u001b[0m\n\u001b[0m\u001b[0;32m   1613\u001b[0m \u001b[1;33m\u001b[0m\u001b[0m\n\u001b[0;32m   1614\u001b[0m     \u001b[1;31m# Maybe plot on the off-diagonals\u001b[0m\u001b[1;33m\u001b[0m\u001b[1;33m\u001b[0m\u001b[0m\n",
      "\u001b[1;32mC:\\Users\\Mike\\Anaconda3\\lib\\site-packages\\seaborn\\axisgrid.py\u001b[0m in \u001b[0;36mmap_diag\u001b[1;34m(self, func, **kwargs)\u001b[0m\n\u001b[0;32m   1328\u001b[0m         \u001b[1;32mfor\u001b[0m \u001b[0mi\u001b[0m\u001b[1;33m,\u001b[0m \u001b[0mvar\u001b[0m \u001b[1;32min\u001b[0m \u001b[0menumerate\u001b[0m\u001b[1;33m(\u001b[0m\u001b[0mself\u001b[0m\u001b[1;33m.\u001b[0m\u001b[0mx_vars\u001b[0m\u001b[1;33m)\u001b[0m\u001b[1;33m:\u001b[0m\u001b[1;33m\u001b[0m\u001b[0m\n\u001b[0;32m   1329\u001b[0m             \u001b[0max\u001b[0m \u001b[1;33m=\u001b[0m \u001b[0mself\u001b[0m\u001b[1;33m.\u001b[0m\u001b[0mdiag_axes\u001b[0m\u001b[1;33m[\u001b[0m\u001b[0mi\u001b[0m\u001b[1;33m]\u001b[0m\u001b[1;33m\u001b[0m\u001b[0m\n\u001b[1;32m-> 1330\u001b[1;33m             \u001b[0mhue_grouped\u001b[0m \u001b[1;33m=\u001b[0m \u001b[0mself\u001b[0m\u001b[1;33m.\u001b[0m\u001b[0mdata\u001b[0m\u001b[1;33m[\u001b[0m\u001b[0mvar\u001b[0m\u001b[1;33m]\u001b[0m\u001b[1;33m.\u001b[0m\u001b[0mgroupby\u001b[0m\u001b[1;33m(\u001b[0m\u001b[0mself\u001b[0m\u001b[1;33m.\u001b[0m\u001b[0mhue_vals\u001b[0m\u001b[1;33m)\u001b[0m\u001b[1;33m\u001b[0m\u001b[0m\n\u001b[0m\u001b[0;32m   1331\u001b[0m \u001b[1;33m\u001b[0m\u001b[0m\n\u001b[0;32m   1332\u001b[0m             \u001b[1;31m# Special-case plt.hist with stacked bars\u001b[0m\u001b[1;33m\u001b[0m\u001b[1;33m\u001b[0m\u001b[0m\n",
      "\u001b[1;32mC:\\Users\\Mike\\Anaconda3\\lib\\site-packages\\pandas\\core\\frame.py\u001b[0m in \u001b[0;36m__getitem__\u001b[1;34m(self, key)\u001b[0m\n\u001b[0;32m   2060\u001b[0m             \u001b[1;32mreturn\u001b[0m \u001b[0mself\u001b[0m\u001b[1;33m.\u001b[0m\u001b[0m_getitem_multilevel\u001b[0m\u001b[1;33m(\u001b[0m\u001b[0mkey\u001b[0m\u001b[1;33m)\u001b[0m\u001b[1;33m\u001b[0m\u001b[0m\n\u001b[0;32m   2061\u001b[0m         \u001b[1;32melse\u001b[0m\u001b[1;33m:\u001b[0m\u001b[1;33m\u001b[0m\u001b[0m\n\u001b[1;32m-> 2062\u001b[1;33m             \u001b[1;32mreturn\u001b[0m \u001b[0mself\u001b[0m\u001b[1;33m.\u001b[0m\u001b[0m_getitem_column\u001b[0m\u001b[1;33m(\u001b[0m\u001b[0mkey\u001b[0m\u001b[1;33m)\u001b[0m\u001b[1;33m\u001b[0m\u001b[0m\n\u001b[0m\u001b[0;32m   2063\u001b[0m \u001b[1;33m\u001b[0m\u001b[0m\n\u001b[0;32m   2064\u001b[0m     \u001b[1;32mdef\u001b[0m \u001b[0m_getitem_column\u001b[0m\u001b[1;33m(\u001b[0m\u001b[0mself\u001b[0m\u001b[1;33m,\u001b[0m \u001b[0mkey\u001b[0m\u001b[1;33m)\u001b[0m\u001b[1;33m:\u001b[0m\u001b[1;33m\u001b[0m\u001b[0m\n",
      "\u001b[1;32mC:\\Users\\Mike\\Anaconda3\\lib\\site-packages\\pandas\\core\\frame.py\u001b[0m in \u001b[0;36m_getitem_column\u001b[1;34m(self, key)\u001b[0m\n\u001b[0;32m   2067\u001b[0m         \u001b[1;31m# get column\u001b[0m\u001b[1;33m\u001b[0m\u001b[1;33m\u001b[0m\u001b[0m\n\u001b[0;32m   2068\u001b[0m         \u001b[1;32mif\u001b[0m \u001b[0mself\u001b[0m\u001b[1;33m.\u001b[0m\u001b[0mcolumns\u001b[0m\u001b[1;33m.\u001b[0m\u001b[0mis_unique\u001b[0m\u001b[1;33m:\u001b[0m\u001b[1;33m\u001b[0m\u001b[0m\n\u001b[1;32m-> 2069\u001b[1;33m             \u001b[1;32mreturn\u001b[0m \u001b[0mself\u001b[0m\u001b[1;33m.\u001b[0m\u001b[0m_get_item_cache\u001b[0m\u001b[1;33m(\u001b[0m\u001b[0mkey\u001b[0m\u001b[1;33m)\u001b[0m\u001b[1;33m\u001b[0m\u001b[0m\n\u001b[0m\u001b[0;32m   2070\u001b[0m \u001b[1;33m\u001b[0m\u001b[0m\n\u001b[0;32m   2071\u001b[0m         \u001b[1;31m# duplicate columns & possible reduce dimensionality\u001b[0m\u001b[1;33m\u001b[0m\u001b[1;33m\u001b[0m\u001b[0m\n",
      "\u001b[1;32mC:\\Users\\Mike\\Anaconda3\\lib\\site-packages\\pandas\\core\\generic.py\u001b[0m in \u001b[0;36m_get_item_cache\u001b[1;34m(self, item)\u001b[0m\n\u001b[0;32m   1532\u001b[0m         \u001b[0mres\u001b[0m \u001b[1;33m=\u001b[0m \u001b[0mcache\u001b[0m\u001b[1;33m.\u001b[0m\u001b[0mget\u001b[0m\u001b[1;33m(\u001b[0m\u001b[0mitem\u001b[0m\u001b[1;33m)\u001b[0m\u001b[1;33m\u001b[0m\u001b[0m\n\u001b[0;32m   1533\u001b[0m         \u001b[1;32mif\u001b[0m \u001b[0mres\u001b[0m \u001b[1;32mis\u001b[0m \u001b[1;32mNone\u001b[0m\u001b[1;33m:\u001b[0m\u001b[1;33m\u001b[0m\u001b[0m\n\u001b[1;32m-> 1534\u001b[1;33m             \u001b[0mvalues\u001b[0m \u001b[1;33m=\u001b[0m \u001b[0mself\u001b[0m\u001b[1;33m.\u001b[0m\u001b[0m_data\u001b[0m\u001b[1;33m.\u001b[0m\u001b[0mget\u001b[0m\u001b[1;33m(\u001b[0m\u001b[0mitem\u001b[0m\u001b[1;33m)\u001b[0m\u001b[1;33m\u001b[0m\u001b[0m\n\u001b[0m\u001b[0;32m   1535\u001b[0m             \u001b[0mres\u001b[0m \u001b[1;33m=\u001b[0m \u001b[0mself\u001b[0m\u001b[1;33m.\u001b[0m\u001b[0m_box_item_values\u001b[0m\u001b[1;33m(\u001b[0m\u001b[0mitem\u001b[0m\u001b[1;33m,\u001b[0m \u001b[0mvalues\u001b[0m\u001b[1;33m)\u001b[0m\u001b[1;33m\u001b[0m\u001b[0m\n\u001b[0;32m   1536\u001b[0m             \u001b[0mcache\u001b[0m\u001b[1;33m[\u001b[0m\u001b[0mitem\u001b[0m\u001b[1;33m]\u001b[0m \u001b[1;33m=\u001b[0m \u001b[0mres\u001b[0m\u001b[1;33m\u001b[0m\u001b[0m\n",
      "\u001b[1;32mC:\\Users\\Mike\\Anaconda3\\lib\\site-packages\\pandas\\core\\internals.py\u001b[0m in \u001b[0;36mget\u001b[1;34m(self, item, fastpath)\u001b[0m\n\u001b[0;32m   3588\u001b[0m \u001b[1;33m\u001b[0m\u001b[0m\n\u001b[0;32m   3589\u001b[0m             \u001b[1;32mif\u001b[0m \u001b[1;32mnot\u001b[0m \u001b[0misnull\u001b[0m\u001b[1;33m(\u001b[0m\u001b[0mitem\u001b[0m\u001b[1;33m)\u001b[0m\u001b[1;33m:\u001b[0m\u001b[1;33m\u001b[0m\u001b[0m\n\u001b[1;32m-> 3590\u001b[1;33m                 \u001b[0mloc\u001b[0m \u001b[1;33m=\u001b[0m \u001b[0mself\u001b[0m\u001b[1;33m.\u001b[0m\u001b[0mitems\u001b[0m\u001b[1;33m.\u001b[0m\u001b[0mget_loc\u001b[0m\u001b[1;33m(\u001b[0m\u001b[0mitem\u001b[0m\u001b[1;33m)\u001b[0m\u001b[1;33m\u001b[0m\u001b[0m\n\u001b[0m\u001b[0;32m   3591\u001b[0m             \u001b[1;32melse\u001b[0m\u001b[1;33m:\u001b[0m\u001b[1;33m\u001b[0m\u001b[0m\n\u001b[0;32m   3592\u001b[0m                 \u001b[0mindexer\u001b[0m \u001b[1;33m=\u001b[0m \u001b[0mnp\u001b[0m\u001b[1;33m.\u001b[0m\u001b[0marange\u001b[0m\u001b[1;33m(\u001b[0m\u001b[0mlen\u001b[0m\u001b[1;33m(\u001b[0m\u001b[0mself\u001b[0m\u001b[1;33m.\u001b[0m\u001b[0mitems\u001b[0m\u001b[1;33m)\u001b[0m\u001b[1;33m)\u001b[0m\u001b[1;33m[\u001b[0m\u001b[0misnull\u001b[0m\u001b[1;33m(\u001b[0m\u001b[0mself\u001b[0m\u001b[1;33m.\u001b[0m\u001b[0mitems\u001b[0m\u001b[1;33m)\u001b[0m\u001b[1;33m]\u001b[0m\u001b[1;33m\u001b[0m\u001b[0m\n",
      "\u001b[1;32mC:\\Users\\Mike\\Anaconda3\\lib\\site-packages\\pandas\\core\\indexes\\base.py\u001b[0m in \u001b[0;36mget_loc\u001b[1;34m(self, key, method, tolerance)\u001b[0m\n\u001b[0;32m   2393\u001b[0m                 \u001b[1;32mreturn\u001b[0m \u001b[0mself\u001b[0m\u001b[1;33m.\u001b[0m\u001b[0m_engine\u001b[0m\u001b[1;33m.\u001b[0m\u001b[0mget_loc\u001b[0m\u001b[1;33m(\u001b[0m\u001b[0mkey\u001b[0m\u001b[1;33m)\u001b[0m\u001b[1;33m\u001b[0m\u001b[0m\n\u001b[0;32m   2394\u001b[0m             \u001b[1;32mexcept\u001b[0m \u001b[0mKeyError\u001b[0m\u001b[1;33m:\u001b[0m\u001b[1;33m\u001b[0m\u001b[0m\n\u001b[1;32m-> 2395\u001b[1;33m                 \u001b[1;32mreturn\u001b[0m \u001b[0mself\u001b[0m\u001b[1;33m.\u001b[0m\u001b[0m_engine\u001b[0m\u001b[1;33m.\u001b[0m\u001b[0mget_loc\u001b[0m\u001b[1;33m(\u001b[0m\u001b[0mself\u001b[0m\u001b[1;33m.\u001b[0m\u001b[0m_maybe_cast_indexer\u001b[0m\u001b[1;33m(\u001b[0m\u001b[0mkey\u001b[0m\u001b[1;33m)\u001b[0m\u001b[1;33m)\u001b[0m\u001b[1;33m\u001b[0m\u001b[0m\n\u001b[0m\u001b[0;32m   2396\u001b[0m \u001b[1;33m\u001b[0m\u001b[0m\n\u001b[0;32m   2397\u001b[0m         \u001b[0mindexer\u001b[0m \u001b[1;33m=\u001b[0m \u001b[0mself\u001b[0m\u001b[1;33m.\u001b[0m\u001b[0mget_indexer\u001b[0m\u001b[1;33m(\u001b[0m\u001b[1;33m[\u001b[0m\u001b[0mkey\u001b[0m\u001b[1;33m]\u001b[0m\u001b[1;33m,\u001b[0m \u001b[0mmethod\u001b[0m\u001b[1;33m=\u001b[0m\u001b[0mmethod\u001b[0m\u001b[1;33m,\u001b[0m \u001b[0mtolerance\u001b[0m\u001b[1;33m=\u001b[0m\u001b[0mtolerance\u001b[0m\u001b[1;33m)\u001b[0m\u001b[1;33m\u001b[0m\u001b[0m\n",
      "\u001b[1;32mpandas\\_libs\\index.pyx\u001b[0m in \u001b[0;36mpandas._libs.index.IndexEngine.get_loc (pandas\\_libs\\index.c:5239)\u001b[1;34m()\u001b[0m\n",
      "\u001b[1;32mpandas\\_libs\\index.pyx\u001b[0m in \u001b[0;36mpandas._libs.index.IndexEngine.get_loc (pandas\\_libs\\index.c:5085)\u001b[1;34m()\u001b[0m\n",
      "\u001b[1;32mpandas\\_libs\\hashtable_class_helper.pxi\u001b[0m in \u001b[0;36mpandas._libs.hashtable.PyObjectHashTable.get_item (pandas\\_libs\\hashtable.c:20405)\u001b[1;34m()\u001b[0m\n",
      "\u001b[1;32mpandas\\_libs\\hashtable_class_helper.pxi\u001b[0m in \u001b[0;36mpandas._libs.hashtable.PyObjectHashTable.get_item (pandas\\_libs\\hashtable.c:20359)\u001b[1;34m()\u001b[0m\n",
      "\u001b[1;31mKeyError\u001b[0m: 'CA'"
     ]
    },
    {
     "data": {
      "image/png": "[encoded data removed]",
      "text/plain": [
       "<matplotlib.figure.Figure at 0x2c208f9e588>"
      ]
     },
     "metadata": {},
     "output_type": "display_data"
    }
   ],
   "source": [
    "sns.set(style=\"ticks\")\n",
    "\n",
    "# graph the relationship between 'thalach' and the rest of the variables (negative correlation)\n",
    "g = sns.pairplot(df_corr, vars = ['Thalach', 'Age', 'CP', 'Exang', 'Oldpeak', 'Slope', 'CA', 'Thal', 'Num'],\n",
    "                 diag_kind = 'kde',\n",
    "                 kind = 'reg')"
   ]
  },
  {
   "cell_type": "markdown",
   "metadata": {},
   "source": [
    "> **Clean the data and Prepare them for modeling**"
   ]
  },
  {
   "cell_type": "code",
   "execution_count": 39,
   "metadata": {
    "collapsed": true
   },
   "outputs": [],
   "source": [
    "# list the index with '?' as values\n",
    "ca_index = df.loc[df.CA == '?'].index\n",
    "thal_index = df.loc[df.Thal == '?'].index\n",
    "ind = ca_index.append(thal_index)\n",
    "\n",
    "# replace '?' with 'NaN'\n",
    "for i in ind:\n",
    "    df.iloc[i:] = df.iloc[i:].replace('?', '')\n",
    "\n",
    "# change 'CA' and 'Thal' to float type for imputation    \n",
    "df['CA'] = pd.to_numeric(df['CA']).astype(float)\n",
    "df['Thal'] = pd.to_numeric(df['Thal']).astype(float)    #change this back to obj for binarization"
   ]
  },
  {
   "cell_type": "code",
   "execution_count": 40,
   "metadata": {
    "collapsed": true
   },
   "outputs": [],
   "source": [
    "# want to impute the missing data \n",
    "col_names = df.columns    # Rename the columns after imputation\n",
    "imp = Imputer(missing_values = 'NaN', strategy = 'most_frequent')\n",
    "new_df = imp.fit_transform(df)\n",
    "new_df = pd.DataFrame(new_df, columns = col_names)"
   ]
  },
  {
   "cell_type": "code",
   "execution_count": 41,
   "metadata": {
    "collapsed": true
   },
   "outputs": [],
   "source": [
    "# want to change targeted variable to binary ( 0 - safe, 1 - not safe)\n",
    "new_df['Num'] = new_df['Num'].apply(lambda x: 1 if x >= 1 else 0)\n",
    "\n",
    "# want to binarize CP, Restecg, Slope, Thal\n",
    "new_df['CP'] = pd.to_numeric(new_df['CP']).astype(object)\n",
    "new_df['Restecg'] = pd.to_numeric(new_df['Restecg']).astype(object)\n",
    "new_df['Slope'] = pd.to_numeric(new_df['Slope']).astype(object)\n",
    "new_df['Thal'] = pd.to_numeric(new_df['Thal']).astype(object)\n",
    "\n",
    "# binarize\n",
    "new_df = pd.get_dummies(new_df)"
   ]
  },
  {
   "cell_type": "code",
   "execution_count": 42,
   "metadata": {
    "collapsed": true
   },
   "outputs": [],
   "source": [
    "# identify with the outlier in Chol\n",
    "ind_chol = new_df.loc[new_df['Chol'] > 500]\n",
    "\n",
    "# temporariliy drop the outlier\n",
    "new_df = new_df.drop(new_df.index[ind_chol.index])\n",
    "\n",
    "# replace the outlier with the max value in 'Chol, so it doesn't affect the normalization\n",
    "max_chol = new_df['Chol'].max()\n",
    "ind_chol['Chol'] = max_chol\n",
    "new_df = new_df.append(ind_chol)"
   ]
  },
  {
   "cell_type": "code",
   "execution_count": 43,
   "metadata": {
    "collapsed": true
   },
   "outputs": [],
   "source": [
    "# normalization (min-max)\n",
    "col_names = new_df.columns    # Rename the columns after normalization\n",
    "scaler = MinMaxScaler()\n",
    "\n",
    "# want to find the max value of 'Chol' after normalization\n",
    "new_df = scaler.fit_transform(new_df)\n",
    "new_df = pd.DataFrame(new_df, columns = col_names)"
   ]
  },
  {
   "cell_type": "code",
   "execution_count": 44,
   "metadata": {
    "collapsed": true
   },
   "outputs": [],
   "source": [
    "# shuffle the dataset for randomness in training and test set\n",
    "# create a function to shuffle the dataset\n",
    "def shuffle_data(shuf_df):\n",
    "    shuf_df_sparse = coo_matrix(shuf_df)\n",
    "    shuf_df, shuf_df_sparse = shuffle(shuf_df, shuf_df_sparse)\n",
    "\n",
    "    return shuf_df;"
   ]
  },
  {
   "cell_type": "markdown",
   "metadata": {},
   "source": [
    "> **Start Modeling**"
   ]
  },
  {
   "cell_type": "code",
   "execution_count": 45,
   "metadata": {
    "collapsed": true
   },
   "outputs": [],
   "source": [
    "# shuffle the original df\n",
    "shuf_df = shuffle_data(new_df)\n",
    "\n",
    "# set targeted variable and features\n",
    "#shuf_df = shuffle_data(shuf_df)\n",
    "Y = shuf_df['Num']\n",
    "X = shuf_df.loc[:, ~shuf_df.columns.isin(['Num'])]\n",
    "\n",
    "# create a training set and test set sizes\n",
    "trainsize = int(new_df.shape[0] * 0.9)\n",
    "X_train, Y_train = X[:trainsize], Y[:trainsize]\n",
    "X_test, Y_test = X[trainsize:], Y[trainsize:]"
   ]
  },
  {
   "cell_type": "markdown",
   "metadata": {},
   "source": [
    "* Logistic Regression"
   ]
  },
  {
   "cell_type": "code",
   "execution_count": 46,
   "metadata": {},
   "outputs": [
    {
     "name": "stdout",
     "output_type": "stream",
     "text": [
      "Coefficients\n",
      "[[ 0.20057445  1.38914236  2.54369267  0.99449272  0.61923657  1.19129141\n",
      "   0.90219411  2.66907832  3.62234919  1.29921205  0.21805454  0.93967377\n",
      "   0.87381332  0.84039702  0.33717295  0.40555708  1.20447123  0.21710038\n",
      "   0.59575619  1.16755175  0.72793794  0.31236264]]\n",
      "[-1.58312704]\n",
      "\n",
      "Percentage Accuracy (Training)\n",
      "0.882352941176\n",
      "\n",
      "Percentage Accuracy (Test)\n",
      "0.806451612903\n",
      "\n",
      "Cross Validation \n",
      "[ 0.83870968  0.83870968  0.90322581  0.90322581  0.9         0.73333333\n",
      "  0.8         0.8         0.83333333  0.79310345]\n",
      "\n",
      "\n",
      "Training set accuracy:\n",
      "Percent Type I errors: 0.051470588235294115\n",
      "Percent Type II errors: 0.0661764705882353\n",
      "\n",
      "Test set accuracy:\n",
      "Percent Type I errors: 0.03225806451612903\n",
      "Percent Type II errors: 0.16129032258064516\n",
      "\n",
      "Accuracy of Heart Diease Diagnostics\n",
      "Training Set:\n",
      "\n",
      "col_0  0.0  1.0\n",
      "Num            \n",
      "0.0    135   14\n",
      "1.0     18  105\n",
      "\n",
      "Test Set:\n",
      "\n",
      "col_0  0.0  1.0\n",
      "Num            \n",
      "0.0     14    1\n",
      "1.0      5   11\n"
     ]
    }
   ],
   "source": [
    "# initialize Logistic Regression model\n",
    "lr = LogisticRegression(C = 1e9)  # note: can tweak this parameter to imporve the model\n",
    "\n",
    "# fit the model.\n",
    "fit = lr.fit(X_train, Y_train)\n",
    "Y_train_pred = lr.predict(X_train)\n",
    "Y_test_pred = lr.predict(X_test)\n",
    "\n",
    "# display\n",
    "print('Coefficients')\n",
    "print(abs(fit.coef_))\n",
    "print(fit.intercept_)\n",
    "\n",
    "# display accuracy tables\n",
    "table_train = pd.crosstab(Y_train, Y_train_pred, margins=True)\n",
    "table_test = pd.crosstab(Y_test, Y_test_pred, margins=True)\n",
    "\n",
    "train_tI_lr = table_train.loc[0.0,1.0] / table_train.loc['All','All']\n",
    "train_tII_lr = table_train.loc[1.0,0.0] / table_train.loc['All','All']\n",
    "\n",
    "test_tI_lr = table_test.loc[0.0,1.0]/table_test.loc['All','All']\n",
    "test_tII_lr = table_test.loc[1.0,0.0]/table_test.loc['All','All']\n",
    "\n",
    "print('\\nPercentage Accuracy (Training)')\n",
    "print(lr.score(X_train, Y_train))\n",
    "\n",
    "print('\\nPercentage Accuracy (Test)')\n",
    "print(lr.score(X_test, Y_test))\n",
    "\n",
    "# cross-validate the logistic regression\n",
    "print('\\nCross Validation ')\n",
    "print(cross_val_score(lr, X, Y, cv = 10))\n",
    "print('\\n')\n",
    "\n",
    "print((\n",
    "    'Training set accuracy:\\n'\n",
    "    'Percent Type I errors: {}\\n'\n",
    "    'Percent Type II errors: {}\\n\\n'\n",
    "    'Test set accuracy:\\n'\n",
    "    'Percent Type I errors: {}\\n'\n",
    "    'Percent Type II errors: {}'\n",
    ").format(train_tI_lr, train_tII_lr, test_tI_lr, test_tII_lr))\n",
    "\n",
    "print('\\nAccuracy of Heart Diease Diagnostics')\n",
    "print('Training Set:\\n')\n",
    "print(pd.crosstab(Y_train, Y_train_pred))\n",
    "print('\\nTest Set:\\n')\n",
    "print(pd.crosstab(Y_test, Y_test_pred))"
   ]
  },
  {
   "cell_type": "markdown",
   "metadata": {},
   "source": [
    "    [1, 0] - Type II ~ False Negative cases\n",
    "    [0, 1] - Type I ~ False Positive cases\n",
    "        Note: in order to reduce these cases in the model, need to tweak the parameters within the model"
   ]
  },
  {
   "cell_type": "markdown",
   "metadata": {},
   "source": [
    "* Gradient Boost"
   ]
  },
  {
   "cell_type": "code",
   "execution_count": 47,
   "metadata": {},
   "outputs": [
    {
     "name": "stdout",
     "output_type": "stream",
     "text": [
      "\n",
      "Percentage Accuracy (Training)\n",
      "0.867647058824\n",
      "\n",
      "Percentage Accuracy (Test)\n",
      "0.709677419355\n",
      "\n",
      "Cross Validation\n",
      "[ 0.74193548  0.87096774  0.90322581  0.87096774  0.93333333  0.7\n",
      "  0.73333333  0.8         0.86666667  0.72413793]\n",
      "\n",
      "\n",
      "Training set accuracy:\n",
      "Percent Type I errors: 0.04044117647058824\n",
      "Percent Type II errors: 0.09191176470588236\n",
      "\n",
      "Test set accuracy:\n",
      "Percent Type I errors: 0.16129032258064516\n",
      "Percent Type II errors: 0.12903225806451613\n",
      "\n",
      "Accuracy of Heart Diease Diagnostics\n",
      "Training Set:\n",
      "\n",
      "col_0  0.0  1.0\n",
      "Num            \n",
      "0.0    138   11\n",
      "1.0     25   98\n",
      "\n",
      "Test Set:\n",
      "\n",
      "col_0  0.0  1.0\n",
      "Num            \n",
      "0.0     10    5\n",
      "1.0      4   12\n"
     ]
    }
   ],
   "source": [
    "# we'll make 10 iterations, use 2-deep trees, and set our loss function.\n",
    "params = {'n_estimators': 10,      \n",
    "          'max_depth': 2,\n",
    "          'loss': 'deviance'}\n",
    "\n",
    "# initialize Gradient Boost model\n",
    "gbc = ensemble.GradientBoostingClassifier(**params)\n",
    "\n",
    "# fit the model\n",
    "gbc.fit(X_train, Y_train)\n",
    "Y_train_pred = gbc.predict(X_train)\n",
    "Y_test_pred = gbc.predict(X_test)\n",
    "\n",
    "# display accuracy tables\n",
    "table_train = pd.crosstab(Y_train, Y_train_pred, margins=True)\n",
    "table_test = pd.crosstab(Y_test, Y_test_pred, margins=True)\n",
    "\n",
    "train_tI_gbc = table_train.loc[0.0,1.0] / table_train.loc['All','All']\n",
    "train_tII_gbc = table_train.loc[1.0,0.0] / table_train.loc['All','All']\n",
    "\n",
    "test_tI_gbc = table_test.loc[0.0,1.0]/table_test.loc['All','All']\n",
    "test_tII_gbc = table_test.loc[1.0,0.0]/table_test.loc['All','All']\n",
    "\n",
    "print('\\nPercentage Accuracy (Training)')\n",
    "print(gbc.score(X_train, Y_train))\n",
    "\n",
    "print('\\nPercentage Accuracy (Test)')\n",
    "print(gbc.score(X_test, Y_test))\n",
    "\n",
    "# cross-validate the gradient boost\n",
    "print('\\nCross Validation')\n",
    "print(cross_val_score(gbc, X, Y, cv = 10))\n",
    "print('\\n')\n",
    "\n",
    "print((\n",
    "    'Training set accuracy:\\n'\n",
    "    'Percent Type I errors: {}\\n'\n",
    "    'Percent Type II errors: {}\\n\\n'\n",
    "    'Test set accuracy:\\n'\n",
    "    'Percent Type I errors: {}\\n'\n",
    "    'Percent Type II errors: {}'\n",
    ").format(train_tI_gbc, train_tII_gbc, test_tI_gbc, test_tII_gbc))\n",
    "\n",
    "print('\\nAccuracy of Heart Diease Diagnostics')\n",
    "print('Training Set:\\n')\n",
    "print(pd.crosstab(Y_train, Y_train_pred))\n",
    "print('\\nTest Set:\\n')\n",
    "print(pd.crosstab(Y_test, Y_test_pred))"
   ]
  },
  {
   "cell_type": "markdown",
   "metadata": {},
   "source": [
    "    Note: seems to be overfiting with high iteration"
   ]
  },
  {
   "cell_type": "markdown",
   "metadata": {},
   "source": [
    "* Random Forest"
   ]
  },
  {
   "cell_type": "code",
   "execution_count": 48,
   "metadata": {},
   "outputs": [
    {
     "name": "stdout",
     "output_type": "stream",
     "text": [
      "\n",
      "Percentage Accuracy (Training)\n",
      "0.941176470588\n",
      "\n",
      "Percentage Accuracy (Test)\n",
      "0.806451612903\n",
      "\n",
      "Cross Validation \n",
      "[ 0.77419355  0.83870968  0.87096774  0.83870968  0.83333333  0.73333333\n",
      "  0.7         0.76666667  0.8         0.79310345]\n",
      "\n",
      "\n",
      "Training set accuracy:\n",
      "Percent Type I errors: 0.022058823529411766\n",
      "Percent Type II errors: 0.03676470588235294\n",
      "\n",
      "Test set accuracy:\n",
      "Percent Type I errors: 0.06451612903225806\n",
      "Percent Type II errors: 0.12903225806451613\n",
      "\n",
      "Accuracy of Heart Diease Diagnostics\n",
      "Training Set:\n",
      "\n",
      "col_0  0.0  1.0\n",
      "Num            \n",
      "0.0    143    6\n",
      "1.0     10  113\n",
      "\n",
      "Test Set:\n",
      "\n",
      "col_0  0.0  1.0\n",
      "Num            \n",
      "0.0     13    2\n",
      "1.0      4   12\n"
     ]
    }
   ],
   "source": [
    "# initialize Random Forest model\n",
    "rfc = ensemble.RandomForestClassifier(max_depth = 5)\n",
    "\n",
    "# fit the model\n",
    "rfc.fit(X_train, Y_train)\n",
    "Y_train_pred = rfc.predict(X_train)\n",
    "Y_test_pred = rfc.predict(X_test)\n",
    "\n",
    "# display accuracy tables\n",
    "table_train = pd.crosstab(Y_train, Y_train_pred, margins=True)\n",
    "table_test = pd.crosstab(Y_test, Y_test_pred, margins=True)\n",
    "\n",
    "train_tI_rfc = table_train.loc[0.0,1.0] / table_train.loc['All','All']\n",
    "train_tII_rfc = table_train.loc[1.0,0.0] / table_train.loc['All','All']\n",
    "\n",
    "test_tI_rfc = table_test.loc[0.0,1.0]/table_test.loc['All','All']\n",
    "test_tII_rfc = table_test.loc[1.0,0.0]/table_test.loc['All','All']\n",
    "\n",
    "# display\n",
    "print('\\nPercentage Accuracy (Training)')\n",
    "print(rfc.score(X_train, Y_train))\n",
    "\n",
    "print('\\nPercentage Accuracy (Test)')\n",
    "print(rfc.score(X_test, Y_test))\n",
    "\n",
    "# cross-validate the random forest\n",
    "print('\\nCross Validation ')\n",
    "print(cross_val_score(rfc, X, Y, cv = 10))\n",
    "print('\\n')\n",
    "\n",
    "print((\n",
    "    'Training set accuracy:\\n'\n",
    "    'Percent Type I errors: {}\\n'\n",
    "    'Percent Type II errors: {}\\n\\n'\n",
    "    'Test set accuracy:\\n'\n",
    "    'Percent Type I errors: {}\\n'\n",
    "    'Percent Type II errors: {}'\n",
    ").format(train_tI_rfc, train_tII_rfc, test_tI_rfc, test_tII_rfc))\n",
    "\n",
    "print('\\nAccuracy of Heart Diease Diagnostics')\n",
    "print('Training Set:\\n')\n",
    "print(pd.crosstab(Y_train, Y_train_pred))\n",
    "print('\\nTest Set:\\n')\n",
    "print(pd.crosstab(Y_test, Y_test_pred))"
   ]
  },
  {
   "cell_type": "markdown",
   "metadata": {},
   "source": [
    "* SVM"
   ]
  },
  {
   "cell_type": "code",
   "execution_count": 49,
   "metadata": {},
   "outputs": [
    {
     "name": "stdout",
     "output_type": "stream",
     "text": [
      "\n",
      "Percentage Accuracy (Training)\n",
      "0.875\n",
      "\n",
      "Percentage Accuracy (Test)\n",
      "0.741935483871\n",
      "\n",
      "Cross Validation \n",
      "[ 0.80645161  0.83870968  0.93548387  0.93548387  0.93333333  0.73333333\n",
      "  0.76666667  0.76666667  0.83333333  0.68965517]\n",
      "\n",
      "\n",
      "Training set accuracy:\n",
      "Percent Type I errors: 0.051470588235294115\n",
      "Percent Type II errors: 0.07352941176470588\n",
      "\n",
      "Test set accuracy:\n",
      "Percent Type I errors: 0.06451612903225806\n",
      "Percent Type II errors: 0.1935483870967742\n",
      "\n",
      "Accuracy of Heart Diease Diagnostics\n",
      "Training Set:\n",
      "\n",
      "col_0  0.0  1.0\n",
      "Num            \n",
      "0.0    135   14\n",
      "1.0     20  103\n",
      "\n",
      "Test Set:\n",
      "\n",
      "col_0  0.0  1.0\n",
      "Num            \n",
      "0.0     13    2\n",
      "1.0      6   10\n"
     ]
    }
   ],
   "source": [
    "# initialize SVM for classifers\n",
    "svc = SVC()\n",
    "\n",
    "# fit the model\n",
    "svc.fit(X_train, Y_train)\n",
    "Y_train_pred = svc.predict(X_train)\n",
    "Y_test_pred = svc.predict(X_test)\n",
    "\n",
    "# display accuracy tables\n",
    "table_train = pd.crosstab(Y_train, Y_train_pred, margins=True)\n",
    "table_test = pd.crosstab(Y_test, Y_test_pred, margins=True)\n",
    "\n",
    "train_tI_svc = table_train.loc[0.0,1.0] / table_train.loc['All','All']\n",
    "train_tII_svc = table_train.loc[1.0,0.0] / table_train.loc['All','All']\n",
    "\n",
    "test_tI_svc = table_test.loc[0.0,1.0]/table_test.loc['All','All']\n",
    "test_tII_svc = table_test.loc[1.0,0.0]/table_test.loc['All','All']\n",
    "\n",
    "# display\n",
    "print('\\nPercentage Accuracy (Training)')\n",
    "print(svc.score(X_train, Y_train))\n",
    "\n",
    "print('\\nPercentage Accuracy (Test)')\n",
    "print(svc.score(X_test, Y_test))\n",
    "\n",
    "# cross-validate the random forest\n",
    "print('\\nCross Validation ')\n",
    "print(cross_val_score(svc, X, Y, cv = 10))\n",
    "print('\\n')\n",
    "\n",
    "print((\n",
    "    'Training set accuracy:\\n'\n",
    "    'Percent Type I errors: {}\\n'\n",
    "    'Percent Type II errors: {}\\n\\n'\n",
    "    'Test set accuracy:\\n'\n",
    "    'Percent Type I errors: {}\\n'\n",
    "    'Percent Type II errors: {}'\n",
    ").format(train_tI_svc, train_tII_svc, test_tI_svc, test_tII_svc))\n",
    "\n",
    "print('\\nAccuracy of Heart Diease Diagnostics')\n",
    "print('Training Set:\\n')\n",
    "print(pd.crosstab(Y_train, Y_train_pred))\n",
    "print('\\nTest Set:\\n')\n",
    "print(pd.crosstab(Y_test, Y_test_pred))"
   ]
  },
  {
   "cell_type": "markdown",
   "metadata": {},
   "source": [
    "* KNN"
   ]
  },
  {
   "cell_type": "code",
   "execution_count": 50,
   "metadata": {
    "scrolled": false
   },
   "outputs": [
    {
     "name": "stdout",
     "output_type": "stream",
     "text": [
      "\n",
      "Percentage Accuracy (Training)\n",
      "0.845588235294\n",
      "\n",
      "Percentage Accuracy (Test)\n",
      "0.709677419355\n",
      "\n",
      "Cross Validation \n",
      "[ 0.80645161  0.83870968  0.93548387  0.87096774  0.9         0.76666667\n",
      "  0.76666667  0.76666667  0.76666667  0.68965517]\n",
      "\n",
      "\n",
      "Training set accuracy:\n",
      "Percent Type I errors: 0.08088235294117647\n",
      "Percent Type II errors: 0.07352941176470588\n",
      "\n",
      "Test set accuracy:\n",
      "Percent Type I errors: 0.0967741935483871\n",
      "Percent Type II errors: 0.1935483870967742\n",
      "\n",
      "Accuracy of Heart Diease Diagnostics\n",
      "Training Set:\n",
      "\n",
      "col_0  0.0  1.0\n",
      "Num            \n",
      "0.0    127   22\n",
      "1.0     20  103\n",
      "\n",
      "Test Set:\n",
      "\n",
      "col_0  0.0  1.0\n",
      "Num            \n",
      "0.0     12    3\n",
      "1.0      6   10\n"
     ]
    }
   ],
   "source": [
    "# initialize KNN model\n",
    "knn = KNeighborsClassifier(n_neighbors = 15)\n",
    "\n",
    "# fit the model\n",
    "knn.fit(X_train, Y_train)\n",
    "Y_train_pred = knn.predict(X_train)\n",
    "Y_test_pred = knn.predict(X_test)\n",
    "\n",
    "# display accuracy tables\n",
    "table_train = pd.crosstab(Y_train, Y_train_pred, margins=True)\n",
    "table_test = pd.crosstab(Y_test, Y_test_pred, margins=True)\n",
    "\n",
    "train_tI_knn = table_train.loc[0.0,1.0] / table_train.loc['All','All']\n",
    "train_tII_knn = table_train.loc[1.0,0.0] / table_train.loc['All','All']\n",
    "\n",
    "test_tI_knn = table_test.loc[0.0,1.0]/table_test.loc['All','All']\n",
    "test_tII_knn = table_test.loc[1.0,0.0]/table_test.loc['All','All']\n",
    "\n",
    "# display\n",
    "print('\\nPercentage Accuracy (Training)')\n",
    "print(knn.score(X_train, Y_train))\n",
    "\n",
    "print('\\nPercentage Accuracy (Test)')\n",
    "print(knn.score(X_test, Y_test))\n",
    "\n",
    "# cross-validate the random forest\n",
    "print('\\nCross Validation ')\n",
    "print(cross_val_score(knn, X, Y, cv = 10))\n",
    "print('\\n')\n",
    "\n",
    "print((\n",
    "    'Training set accuracy:\\n'\n",
    "    'Percent Type I errors: {}\\n'\n",
    "    'Percent Type II errors: {}\\n\\n'\n",
    "    'Test set accuracy:\\n'\n",
    "    'Percent Type I errors: {}\\n'\n",
    "    'Percent Type II errors: {}'\n",
    ").format(train_tI_knn, train_tII_knn, test_tI_knn, test_tII_knn))\n",
    "\n",
    "print('\\nAccuracy of Heart Diease Diagnostics')\n",
    "print('Training Set:\\n')\n",
    "print(pd.crosstab(Y_train, Y_train_pred))\n",
    "print('\\nTest Set:\\n')\n",
    "print(pd.crosstab(Y_test, Y_test_pred))"
   ]
  },
  {
   "cell_type": "markdown",
   "metadata": {},
   "source": [
    "    Note: \n",
    "    the test accuracy is very inconsistent \n",
    "    test accuracy higher than training accuracy. Happenes for all classifers except gradient boost"
   ]
  },
  {
   "cell_type": "code",
   "execution_count": 51,
   "metadata": {
    "collapsed": true
   },
   "outputs": [],
   "source": [
    "# Create a table to compare the test set results of each classifers\n",
    "## lr = logistic regression\n",
    "## gbc = gradient boost classifer\n",
    "## rfc = random forest classifer\n",
    "## svc = support vector classifer\n",
    "## neighbors = k nearest neighbor \n",
    "compare_df = pd.DataFrame({'lr':[lr.score(X_test, Y_test)],\n",
    "                           'gbc':[gbc.score(X_test, Y_test)],\n",
    "                           'rfc':[rfc.score(X_test, Y_test)],\n",
    "                           'svc':[svc.score(X_test, Y_test)],\n",
    "                           'knn':[knn.score(X_test, Y_test)]})"
   ]
  },
  {
   "cell_type": "code",
   "execution_count": 52,
   "metadata": {
    "collapsed": true,
    "scrolled": true
   },
   "outputs": [],
   "source": [
    "# compare 10 different trials of test set\n",
    "for i in range(500):\n",
    "    # shuffle the original df\n",
    "    new_shuf_df = shuffle_data(shuf_df)\n",
    "\n",
    "    # set targeted variable and features\n",
    "    Y = new_shuf_df['Num']\n",
    "    X = new_shuf_df.loc[:, ~new_shuf_df.columns.isin(['Num'])]\n",
    "\n",
    "    # create a new test set\n",
    "    new_X_test, new_Y_test = X[trainsize:], Y[trainsize:]\n",
    "    \n",
    "    # run the models\n",
    "    compare_df = compare_df.append({'lr':lr.score(new_X_test, new_Y_test),\n",
    "                                    'gbc':gbc.score(new_X_test, new_Y_test),\n",
    "                                    'rfc':rfc.score(new_X_test, new_Y_test),\n",
    "                                    'svc':svc.score(new_X_test, new_Y_test),\n",
    "                                    'knn':knn.score(new_X_test, new_Y_test)},\n",
    "                                  ignore_index = True)\n",
    "    \n",
    "\n",
    "compare_df.index.name = 'Tests'"
   ]
  },
  {
   "cell_type": "markdown",
   "metadata": {},
   "source": [
    "# Try PCA"
   ]
  },
  {
   "cell_type": "code",
   "execution_count": 55,
   "metadata": {
    "collapsed": true
   },
   "outputs": [],
   "source": [
    "# make a copy of original data call PCA_df\n",
    "# shuffle PCA_df\n",
    "PCA_df = new_df.copy()\n",
    "\n",
    "# set targeted variable and initialize PCA \n",
    "Y_PCA = PCA_df['Num']\n",
    "X_PCA = PCA_df.loc[:, ~PCA_df.columns.isin(['Num'])]\n",
    "\n",
    "sklearn_pca = PCA(n_components = 10)      # choosing 13 components because it explains more than 85% of variance\n",
    "X_PCA = sklearn_pca.fit_transform(X_PCA)\n",
    "X_PCA = pd.DataFrame(X_PCA)               # transform X_PCA (meta features) into dataframe\n",
    "\n",
    "# create a training set and test set sizes\n",
    "trainsize = int(PCA_df.shape[0] * 0.9)\n",
    "X_PCA_train, Y_PCA_train = X_PCA[:trainsize], Y_PCA[:trainsize]\n",
    "X_PCA_test, Y_PCA_test = X_PCA[trainsize:], Y_PCA[trainsize:]"
   ]
  },
  {
   "cell_type": "code",
   "execution_count": 57,
   "metadata": {},
   "outputs": [
    {
     "name": "stdout",
     "output_type": "stream",
     "text": [
      "The percentage of total variance in the dataset explained by each component from Sklearn PCA.\n",
      " [ 0.26290059  0.15869179  0.11893926  0.09748476  0.06616708  0.05457545\n",
      "  0.04418042  0.04331995  0.0338796   0.02787741]\n",
      "\n",
      "The sum of variances in the dataset explained. \n",
      " 0.908016314961\n"
     ]
    }
   ],
   "source": [
    "print(\n",
    "    'The percentage of total variance in the dataset explained by each',\n",
    "    'component from Sklearn PCA.\\n',\n",
    "    sklearn_pca.explained_variance_ratio_\n",
    ")\n",
    "\n",
    "print(\n",
    "    '\\nThe sum of variances in the dataset explained. \\n',\n",
    "    sum(sklearn_pca.explained_variance_ratio_)\n",
    ")"
   ]
  },
  {
   "cell_type": "code",
   "execution_count": 58,
   "metadata": {
    "scrolled": true
   },
   "outputs": [
    {
     "data": {
      "text/plain": [
       "(303, 10)"
      ]
     },
     "execution_count": 58,
     "metadata": {},
     "output_type": "execute_result"
    }
   ],
   "source": [
    "X_PCA.shape"
   ]
  },
  {
   "cell_type": "markdown",
   "metadata": {},
   "source": [
    "* Logistic Regression w/ PCA meta features"
   ]
  },
  {
   "cell_type": "code",
   "execution_count": 59,
   "metadata": {},
   "outputs": [
    {
     "name": "stdout",
     "output_type": "stream",
     "text": [
      "Coefficients\n",
      "[[ 2.55868553  0.1144106   0.50102407  0.22200396  0.19392713  0.16777996\n",
      "   0.11976918  0.64232964  1.1382315   1.30909432]]\n",
      "[-0.3332993]\n",
      "\n",
      "Percentage Accuracy (Training)\n",
      "0.849264705882\n",
      "\n",
      "Percentage Accuracy (Test)\n",
      "0.806451612903\n",
      "\n",
      "Cross Validation \n",
      "[ 0.80645161  0.87096774  0.87096774  0.87096774  0.8         0.8\n",
      "  0.76666667  0.86666667  0.76666667  0.82758621]\n",
      "\n",
      "\n",
      "Training set accuracy:\n",
      "Percent Type I errors: 0.21323529411764705\n",
      "Percent Type II errors: 0.2426470588235294\n",
      "\n",
      "Test set accuracy:\n",
      "Percent Type I errors: 0.2903225806451613\n",
      "Percent Type II errors: 0.3870967741935484\n",
      "\n",
      "Accuracy of Heart Diease Diagnostics\n",
      "Training Set:\n",
      "\n",
      "col_0  0.0  1.0\n",
      "Num            \n",
      "0.0    133   17\n",
      "1.0     24   98\n",
      "\n",
      "Test Set:\n",
      "\n",
      "col_0  0.0  1.0\n",
      "Num            \n",
      "0.0     13    1\n",
      "1.0      5   12\n"
     ]
    }
   ],
   "source": [
    "# initialize Logistic Regression model\n",
    "lr_PCA = LogisticRegression(C = 1e9)\n",
    "\n",
    "# fit the model.\n",
    "lr_PCA.fit(X_PCA_train, Y_PCA_train)\n",
    "Y_train_pred = lr_PCA.predict(X_PCA_train)\n",
    "Y_test_pred = lr_PCA.predict(X_PCA_test)\n",
    "\n",
    "\n",
    "# display\n",
    "print('Coefficients')\n",
    "print(abs(lr_PCA.coef_))\n",
    "print(lr_PCA.intercept_)\n",
    "\n",
    "table_train = pd.crosstab(Y_train, Y_train_pred, margins=True)\n",
    "table_test = pd.crosstab(Y_test, Y_test_pred, margins=True)\n",
    "\n",
    "train_tI_errors = table_train.loc[0.0,1.0] / table_train.loc['All','All']\n",
    "train_tII_errors = table_train.loc[1.0,0.0] / table_train.loc['All','All']\n",
    "\n",
    "test_tI_errors = table_test.loc[0.0,1.0]/table_test.loc['All','All']\n",
    "test_tII_errors = table_test.loc[1.0,0.0]/table_test.loc['All','All']\n",
    "\n",
    "print('\\nPercentage Accuracy (Training)')\n",
    "print(lr_PCA.score(X_PCA_train, Y_PCA_train))\n",
    "\n",
    "print('\\nPercentage Accuracy (Test)')\n",
    "print(lr_PCA.score(X_PCA_test, Y_PCA_test))\n",
    "\n",
    "# cross-validate the logistic regression\n",
    "print('\\nCross Validation ')\n",
    "print(cross_val_score(lr_PCA, X_PCA, Y_PCA, cv = 10))\n",
    "print('\\n')\n",
    "\n",
    "print((\n",
    "    'Training set accuracy:\\n'\n",
    "    'Percent Type I errors: {}\\n'\n",
    "    'Percent Type II errors: {}\\n\\n'\n",
    "    'Test set accuracy:\\n'\n",
    "    'Percent Type I errors: {}\\n'\n",
    "    'Percent Type II errors: {}'\n",
    ").format(train_tI_errors, train_tII_errors, test_tI_errors, test_tII_errors))\n",
    "\n",
    "print('\\nAccuracy of Heart Diease Diagnostics')\n",
    "print('Training Set:\\n')\n",
    "print(pd.crosstab(Y_PCA_train, Y_train_pred))\n",
    "print('\\nTest Set:\\n')\n",
    "print(pd.crosstab(Y_PCA_test, Y_test_pred))"
   ]
  },
  {
   "cell_type": "markdown",
   "metadata": {},
   "source": [
    "* Gradient Boost w/ PCA meta features"
   ]
  },
  {
   "cell_type": "code",
   "execution_count": 60,
   "metadata": {},
   "outputs": [
    {
     "name": "stdout",
     "output_type": "stream",
     "text": [
      "\n",
      "Percentage Accuracy (Training)\n",
      "0.863970588235\n",
      "\n",
      "Percentage Accuracy (Test)\n",
      "0.774193548387\n",
      "\n",
      "Cross Validation \n",
      "[ 0.77419355  0.87096774  0.83870968  0.80645161  0.83333333  0.73333333\n",
      "  0.8         0.8         0.73333333  0.79310345]\n",
      "\n",
      "\n",
      "Training set accuracy:\n",
      "Percent Type I errors: 0.23897058823529413\n",
      "Percent Type II errors: 0.23897058823529413\n",
      "\n",
      "Test set accuracy:\n",
      "Percent Type I errors: 0.3548387096774194\n",
      "Percent Type II errors: 0.2903225806451613\n",
      "\n",
      "Accuracy of Heart Diease Diagnostics\n",
      "Training Set:\n",
      "\n",
      "col_0  0.0  1.0\n",
      "Num            \n",
      "0.0    131   19\n",
      "1.0     18  104\n",
      "\n",
      "Test Set:\n",
      "\n",
      "col_0  0.0  1.0\n",
      "Num            \n",
      "0.0     10    4\n",
      "1.0      3   14\n"
     ]
    }
   ],
   "source": [
    "# we'll make 10 iterations, use 2-deep trees, and set our loss function.\n",
    "params = {'n_estimators': 10,      \n",
    "          'max_depth': 2,\n",
    "          'loss': 'deviance'}\n",
    "\n",
    "# initialize Gradient Boost model\n",
    "gbc_PCA = ensemble.GradientBoostingClassifier(**params)\n",
    "\n",
    "# fit the model\n",
    "gbc_PCA.fit(X_PCA_train, Y_PCA_train)\n",
    "Y_train_pred = gbc_PCA.predict(X_PCA_train)\n",
    "Y_test_pred = gbc_PCA.predict(X_PCA_test)\n",
    "\n",
    "# display accuracy tables\n",
    "table_train = pd.crosstab(Y_train, Y_train_pred, margins=True)\n",
    "table_test = pd.crosstab(Y_test, Y_test_pred, margins=True)\n",
    "\n",
    "train_tI_errors = table_train.loc[0.0,1.0] / table_train.loc['All','All']\n",
    "train_tII_errors = table_train.loc[1.0,0.0] / table_train.loc['All','All']\n",
    "\n",
    "test_tI_errors = table_test.loc[0.0,1.0]/table_test.loc['All','All']\n",
    "test_tII_errors = table_test.loc[1.0,0.0]/table_test.loc['All','All']\n",
    "\n",
    "print('\\nPercentage Accuracy (Training)')\n",
    "print(gbc_PCA.score(X_PCA_train, Y_PCA_train))\n",
    "\n",
    "print('\\nPercentage Accuracy (Test)')\n",
    "print(gbc_PCA.score(X_PCA_test, Y_PCA_test))\n",
    "\n",
    "# cross-validate the gradient boost\n",
    "print('\\nCross Validation ')\n",
    "print(cross_val_score(gbc_PCA, X_PCA, Y_PCA, cv = 10))\n",
    "print('\\n')\n",
    "\n",
    "print((\n",
    "    'Training set accuracy:\\n'\n",
    "    'Percent Type I errors: {}\\n'\n",
    "    'Percent Type II errors: {}\\n\\n'\n",
    "    'Test set accuracy:\\n'\n",
    "    'Percent Type I errors: {}\\n'\n",
    "    'Percent Type II errors: {}'\n",
    ").format(train_tI_errors, train_tII_errors, test_tI_errors, test_tII_errors))\n",
    "\n",
    "print('\\nAccuracy of Heart Diease Diagnostics')\n",
    "print('Training Set:\\n')\n",
    "print(pd.crosstab(Y_PCA_train, Y_train_pred))\n",
    "print('\\nTest Set:\\n')\n",
    "print(pd.crosstab(Y_PCA_test, Y_test_pred))"
   ]
  },
  {
   "cell_type": "markdown",
   "metadata": {},
   "source": [
    "    Note: can perform with less iteration in comparison to before PCA"
   ]
  },
  {
   "cell_type": "markdown",
   "metadata": {},
   "source": [
    "* Random Forest w/ PCA meta features"
   ]
  },
  {
   "cell_type": "code",
   "execution_count": 61,
   "metadata": {},
   "outputs": [
    {
     "name": "stdout",
     "output_type": "stream",
     "text": [
      "\n",
      "Percentage Accuracy (Training)\n",
      "0.974264705882\n",
      "\n",
      "Percentage Accuracy (Test)\n",
      "0.774193548387\n",
      "\n",
      "Cross Validation \n",
      "[ 0.77419355  0.80645161  0.87096774  0.74193548  0.76666667  0.83333333\n",
      "  0.86666667  0.86666667  0.7         0.72413793]\n",
      "\n",
      "\n",
      "Training set accuracy:\n",
      "Percent Type I errors: 0.23897058823529413\n",
      "Percent Type II errors: 0.24632352941176472\n",
      "\n",
      "Test set accuracy:\n",
      "Percent Type I errors: 0.3225806451612903\n",
      "Percent Type II errors: 0.3225806451612903\n",
      "\n",
      "Accuracy of Heart Diease Diagnostics\n",
      "Training Set:\n",
      "\n",
      "col_0  0.0  1.0\n",
      "Num            \n",
      "0.0    147    3\n",
      "1.0      4  118\n",
      "\n",
      "Test Set:\n",
      "\n",
      "col_0  0.0  1.0\n",
      "Num            \n",
      "0.0     11    3\n",
      "1.0      4   13\n"
     ]
    }
   ],
   "source": [
    "# initialize Random Forest model\n",
    "rfc_PCA = ensemble.RandomForestClassifier(max_depth = 15)\n",
    "\n",
    "# fit the model\n",
    "rfc_PCA.fit(X_PCA_train, Y_PCA_train)\n",
    "Y_train_pred = rfc_PCA.predict(X_PCA_train)\n",
    "Y_test_pred = rfc_PCA.predict(X_PCA_test)\n",
    "\n",
    "# display accuracy tables\n",
    "table_train = pd.crosstab(Y_train, Y_train_pred, margins=True)\n",
    "table_test = pd.crosstab(Y_test, Y_test_pred, margins=True)\n",
    "\n",
    "train_tI_errors = table_train.loc[0.0,1.0] / table_train.loc['All','All']\n",
    "train_tII_errors = table_train.loc[1.0,0.0] / table_train.loc['All','All']\n",
    "\n",
    "test_tI_errors = table_test.loc[0.0,1.0]/table_test.loc['All','All']\n",
    "test_tII_errors = table_test.loc[1.0,0.0]/table_test.loc['All','All']\n",
    "\n",
    "# display\n",
    "print('\\nPercentage Accuracy (Training)')\n",
    "print(rfc_PCA.score(X_PCA_train, Y_PCA_train))\n",
    "\n",
    "print('\\nPercentage Accuracy (Test)')\n",
    "print(rfc_PCA.score(X_PCA_test, Y_PCA_test))\n",
    "\n",
    "# cross-validate the random forest\n",
    "print('\\nCross Validation ')\n",
    "print(cross_val_score(rfc_PCA, X_PCA, Y_PCA, cv = 10))\n",
    "print('\\n')\n",
    "\n",
    "print((\n",
    "    'Training set accuracy:\\n'\n",
    "    'Percent Type I errors: {}\\n'\n",
    "    'Percent Type II errors: {}\\n\\n'\n",
    "    'Test set accuracy:\\n'\n",
    "    'Percent Type I errors: {}\\n'\n",
    "    'Percent Type II errors: {}'\n",
    ").format(train_tI_errors, train_tII_errors, test_tI_errors, test_tII_errors))\n",
    "\n",
    "print('\\nAccuracy of Heart Diease Diagnostics')\n",
    "print('Training Set:\\n')\n",
    "print(pd.crosstab(Y_PCA_train, Y_train_pred))\n",
    "print('\\nTest Set:\\n')\n",
    "print(pd.crosstab(Y_PCA_test, Y_test_pred))"
   ]
  },
  {
   "cell_type": "markdown",
   "metadata": {},
   "source": [
    "* SVM w/ PCA meta features"
   ]
  },
  {
   "cell_type": "code",
   "execution_count": 62,
   "metadata": {},
   "outputs": [
    {
     "name": "stdout",
     "output_type": "stream",
     "text": [
      "\n",
      "Percentage Accuracy (Training)\n",
      "0.871323529412\n",
      "\n",
      "Percentage Accuracy (Test)\n",
      "0.806451612903\n",
      "\n",
      "Cross Validation \n",
      "[ 0.80645161  0.83870968  0.87096774  0.83870968  0.8         0.83333333\n",
      "  0.8         0.86666667  0.8         0.82758621]\n",
      "\n",
      "\n",
      "Training set accuracy:\n",
      "Percent Type I errors: 0.21323529411764705\n",
      "Percent Type II errors: 0.25\n",
      "\n",
      "Test set accuracy:\n",
      "Percent Type I errors: 0.3225806451612903\n",
      "Percent Type II errors: 0.3548387096774194\n",
      "\n",
      "Accuracy of Heart Diease Diagnostics\n",
      "Training Set:\n",
      "\n",
      "col_0  0.0  1.0\n",
      "Num            \n",
      "0.0    137   13\n",
      "1.0     22  100\n",
      "\n",
      "Test Set:\n",
      "\n",
      "col_0  0.0  1.0\n",
      "Num            \n",
      "0.0     12    2\n",
      "1.0      4   13\n"
     ]
    }
   ],
   "source": [
    "# initialize SVM for classifers\n",
    "svc_PCA = SVC()\n",
    "\n",
    "# fit the model\n",
    "svc_PCA.fit(X_PCA_train, Y_PCA_train)\n",
    "Y_train_pred = svc_PCA.predict(X_PCA_train)\n",
    "Y_test_pred = svc_PCA.predict(X_PCA_test)\n",
    "\n",
    "# display accuracy tables\n",
    "table_train = pd.crosstab(Y_train, Y_train_pred, margins=True)\n",
    "table_test = pd.crosstab(Y_test, Y_test_pred, margins=True)\n",
    "\n",
    "train_tI_errors = table_train.loc[0.0,1.0] / table_train.loc['All','All']\n",
    "train_tII_errors = table_train.loc[1.0,0.0] / table_train.loc['All','All']\n",
    "\n",
    "test_tI_errors = table_test.loc[0.0,1.0]/table_test.loc['All','All']\n",
    "test_tII_errors = table_test.loc[1.0,0.0]/table_test.loc['All','All']\n",
    "\n",
    "# display\n",
    "print('\\nPercentage Accuracy (Training)')\n",
    "print(svc_PCA.score(X_PCA_train, Y_PCA_train))\n",
    "\n",
    "print('\\nPercentage Accuracy (Test)')\n",
    "print(svc_PCA.score(X_PCA_test, Y_PCA_test))\n",
    "\n",
    "# cross-validate the random forest\n",
    "print('\\nCross Validation ')\n",
    "print(cross_val_score(svc_PCA, X_PCA, Y_PCA, cv = 10))\n",
    "print('\\n')\n",
    "\n",
    "print((\n",
    "    'Training set accuracy:\\n'\n",
    "    'Percent Type I errors: {}\\n'\n",
    "    'Percent Type II errors: {}\\n\\n'\n",
    "    'Test set accuracy:\\n'\n",
    "    'Percent Type I errors: {}\\n'\n",
    "    'Percent Type II errors: {}'\n",
    ").format(train_tI_errors, train_tII_errors, test_tI_errors, test_tII_errors))\n",
    "\n",
    "print('\\nAccuracy of Heart Diease Diagnostics')\n",
    "print('Training Set:\\n')\n",
    "print(pd.crosstab(Y_PCA_train, Y_train_pred))\n",
    "print('\\nTest Set:\\n')\n",
    "print(pd.crosstab(Y_PCA_test, Y_test_pred))"
   ]
  },
  {
   "cell_type": "markdown",
   "metadata": {},
   "source": [
    "* KNN w/ PCA meta features"
   ]
  },
  {
   "cell_type": "code",
   "execution_count": 63,
   "metadata": {
    "scrolled": false
   },
   "outputs": [
    {
     "name": "stdout",
     "output_type": "stream",
     "text": [
      "\n",
      "Percentage Accuracy (Training)\n",
      "0.838235294118\n",
      "\n",
      "Percentage Accuracy (Test)\n",
      "0.806451612903\n",
      "\n",
      "Cross Validation \n",
      "[ 0.83870968  0.83870968  0.83870968  0.80645161  0.83333333  0.8         0.8\n",
      "  0.8         0.73333333  0.79310345]\n",
      "\n",
      "\n",
      "Training set accuracy:\n",
      "Percent Type I errors: 0.23161764705882354\n",
      "Percent Type II errors: 0.2426470588235294\n",
      "\n",
      "Test set accuracy:\n",
      "Percent Type I errors: 0.3548387096774194\n",
      "Percent Type II errors: 0.3225806451612903\n",
      "\n",
      "Accuracy of Heart Diease Diagnostics\n",
      "Training Set:\n",
      "\n",
      "col_0  0.0  1.0\n",
      "Num            \n",
      "0.0    129   21\n",
      "1.0     23   99\n",
      "\n",
      "Test Set:\n",
      "\n",
      "col_0  0.0  1.0\n",
      "Num            \n",
      "0.0     11    3\n",
      "1.0      3   14\n"
     ]
    }
   ],
   "source": [
    "# initialize KNN model\n",
    "knn_PCA = KNeighborsClassifier(n_neighbors = 15)\n",
    "\n",
    "# fit the model\n",
    "knn_PCA.fit(X_PCA_train, Y_PCA_train)\n",
    "Y_train_pred = knn_PCA.predict(X_PCA_train)\n",
    "Y_test_pred = knn_PCA.predict(X_PCA_test)\n",
    "\n",
    "# display accuracy tables\n",
    "table_train = pd.crosstab(Y_train, Y_train_pred, margins=True)\n",
    "table_test = pd.crosstab(Y_test, Y_test_pred, margins=True)\n",
    "\n",
    "train_tI_errors = table_train.loc[0.0,1.0] / table_train.loc['All','All']\n",
    "train_tII_errors = table_train.loc[1.0,0.0] / table_train.loc['All','All']\n",
    "\n",
    "test_tI_errors = table_test.loc[0.0,1.0]/table_test.loc['All','All']\n",
    "test_tII_errors = table_test.loc[1.0,0.0]/table_test.loc['All','All']\n",
    "\n",
    "# display\n",
    "print('\\nPercentage Accuracy (Training)')\n",
    "print(knn_PCA.score(X_PCA_train, Y_PCA_train))\n",
    "\n",
    "print('\\nPercentage Accuracy (Test)')\n",
    "print(knn_PCA.score(X_PCA_test, Y_PCA_test))\n",
    "\n",
    "# cross-validate the random forest\n",
    "print('\\nCross Validation ')\n",
    "print(cross_val_score(knn_PCA, X_PCA, Y_PCA, cv = 10))\n",
    "print('\\n')\n",
    "\n",
    "print((\n",
    "    'Training set accuracy:\\n'\n",
    "    'Percent Type I errors: {}\\n'\n",
    "    'Percent Type II errors: {}\\n\\n'\n",
    "    'Test set accuracy:\\n'\n",
    "    'Percent Type I errors: {}\\n'\n",
    "    'Percent Type II errors: {}'\n",
    ").format(train_tI_errors, train_tII_errors, test_tI_errors, test_tII_errors))\n",
    "\n",
    "print('\\nAccuracy of Heart Diease Diagnostics')\n",
    "print('Training Set:\\n')\n",
    "print(pd.crosstab(Y_PCA_train, Y_train_pred))\n",
    "print('\\nTest Set:\\n')\n",
    "print(pd.crosstab(Y_PCA_test, Y_test_pred))"
   ]
  },
  {
   "cell_type": "code",
   "execution_count": 64,
   "metadata": {
    "collapsed": true
   },
   "outputs": [],
   "source": [
    "# Create a table to compare the test set results of each classifers\n",
    "\n",
    "compare_PCA_df = pd.DataFrame({'lr_PCA':[lr_PCA.score(X_PCA_test, Y_PCA_test)],\n",
    "                               'gbc_PCA':[gbc_PCA.score(X_PCA_test, Y_PCA_test)],\n",
    "                               'rfc_PCA':[rfc_PCA.score(X_PCA_test, Y_PCA_test)],\n",
    "                               'svc_PCA':[svc_PCA.score(X_PCA_test, Y_PCA_test)],\n",
    "                               'knn_PCA':[knn_PCA.score(X_PCA_test, Y_PCA_test)]})\n",
    "compare_PCA_df.index.name = 'Tests'"
   ]
  },
  {
   "cell_type": "code",
   "execution_count": 65,
   "metadata": {
    "scrolled": false
   },
   "outputs": [
    {
     "name": "stdout",
     "output_type": "stream",
     "text": [
      "        gbc_PCA   knn_PCA    lr_PCA   rfc_PCA   svc_PCA\n",
      "Tests                                                  \n",
      "0      0.774194  0.806452  0.806452  0.774194  0.806452\n",
      "\n",
      "\n",
      "            gbc       knn        lr       rfc       svc\n",
      "Tests                                                  \n",
      "0      0.709677  0.709677  0.806452  0.806452  0.741935\n",
      "1      0.774194  0.741935  0.806452  0.806452  0.838710\n",
      "2      0.838710  0.870968  0.935484  0.935484  0.870968\n",
      "3      0.935484  0.935484  0.967742  0.967742  0.967742\n",
      "4      0.935484  0.935484  0.903226  0.967742  0.967742\n",
      "\n",
      "Summary Statistics of each Classifers:\n",
      "\n",
      "              gbc         knn          lr         rfc         svc\n",
      "count  501.000000  501.000000  501.000000  501.000000  501.000000\n",
      "mean     0.850171    0.832464    0.872771    0.928015    0.862662\n",
      "std      0.059564    0.065098    0.056178    0.042823    0.058809\n",
      "min      0.677419    0.677419    0.677419    0.741935    0.709677\n",
      "25%      0.806452    0.774194    0.838710    0.903226    0.838710\n",
      "50%      0.838710    0.838710    0.870968    0.935484    0.870968\n",
      "75%      0.903226    0.870968    0.903226    0.967742    0.903226\n",
      "max      1.000000    1.000000    1.000000    1.000000    1.000000\n"
     ]
    }
   ],
   "source": [
    "print(compare_PCA_df)\n",
    "print('\\n')\n",
    "print(compare_df.head())\n",
    "print('\\nSummary Statistics of each Classifers:\\n')\n",
    "print(compare_df.describe())"
   ]
  },
  {
   "cell_type": "code",
   "execution_count": 66,
   "metadata": {},
   "outputs": [
    {
     "data": {
      "text/html": [
       "<div>\n",
       "<style>\n",
       "    .dataframe thead tr:only-child th {\n",
       "        text-align: right;\n",
       "    }\n",
       "\n",
       "    .dataframe thead th {\n",
       "        text-align: left;\n",
       "    }\n",
       "\n",
       "    .dataframe tbody tr th {\n",
       "        vertical-align: top;\n",
       "    }\n",
       "</style>\n",
       "<table border=\"1\" class=\"dataframe\">\n",
       "  <thead>\n",
       "    <tr style=\"text-align: right;\">\n",
       "      <th></th>\n",
       "      <th>gbc_PCA</th>\n",
       "      <th>knn_PCA</th>\n",
       "      <th>lr_PCA</th>\n",
       "      <th>rfc_PCA</th>\n",
       "      <th>svc_PCA</th>\n",
       "    </tr>\n",
       "    <tr>\n",
       "      <th>Tests</th>\n",
       "      <th></th>\n",
       "      <th></th>\n",
       "      <th></th>\n",
       "      <th></th>\n",
       "      <th></th>\n",
       "    </tr>\n",
       "  </thead>\n",
       "  <tbody>\n",
       "    <tr>\n",
       "      <th>0</th>\n",
       "      <td>0.774194</td>\n",
       "      <td>0.806452</td>\n",
       "      <td>0.806452</td>\n",
       "      <td>0.774194</td>\n",
       "      <td>0.806452</td>\n",
       "    </tr>\n",
       "  </tbody>\n",
       "</table>\n",
       "</div>"
      ],
      "text/plain": [
       "        gbc_PCA   knn_PCA    lr_PCA   rfc_PCA   svc_PCA\n",
       "Tests                                                  \n",
       "0      0.774194  0.806452  0.806452  0.774194  0.806452"
      ]
     },
     "execution_count": 66,
     "metadata": {},
     "output_type": "execute_result"
    }
   ],
   "source": [
    "compare_PCA_df"
   ]
  },
  {
   "cell_type": "markdown",
   "metadata": {},
   "source": [
    "    The meta features generated from PCA did not improve the accuracy rates, so I want to stick with the original method."
   ]
  },
  {
   "cell_type": "code",
   "execution_count": 67,
   "metadata": {
    "scrolled": false
   },
   "outputs": [
    {
     "name": "stdout",
     "output_type": "stream",
     "text": [
      "T-test between gbc and knn\n",
      "T-Value: 4.491654\n",
      "P-Value: 7.890716041729789e-06\n",
      "\n",
      "\n",
      "T-test between gbc and lr\n",
      "T-Value: -6.178241\n",
      "P-Value: 9.419546781342073e-10\n",
      "\n",
      "\n",
      "T-test between gbc and rfc\n",
      "T-Value: -23.751255\n",
      "P-Value: 3.0703503117001965e-99\n",
      "\n",
      "\n",
      "T-test between gbc and svc\n",
      "T-Value: -3.340226\n",
      "P-Value: 0.0008680459123918103\n",
      "\n",
      "\n",
      "**********************************************************\n",
      "T-test between knn and gbc\n",
      "T-Value: -4.491654\n",
      "P-Value: 7.890716041729789e-06\n",
      "\n",
      "\n",
      "T-test between knn and lr\n",
      "T-Value: -10.492138\n",
      "P-Value: 1.6660438371409577e-24\n",
      "\n",
      "\n",
      "T-test between knn and rfc\n",
      "T-Value: -27.447635\n",
      "P-Value: 4.441940791045255e-124\n",
      "\n",
      "\n",
      "T-test between knn and svc\n",
      "T-Value: -7.704692\n",
      "P-Value: 3.150122884195948e-14\n",
      "\n",
      "\n",
      "**********************************************************\n",
      "T-test between lr and gbc\n",
      "T-Value: 6.178241\n",
      "P-Value: 9.419546781342073e-10\n",
      "\n",
      "\n",
      "T-test between lr and knn\n",
      "T-Value: 10.492138\n",
      "P-Value: 1.6660438371409577e-24\n",
      "\n",
      "\n",
      "T-test between lr and rfc\n",
      "T-Value: -17.505203\n",
      "P-Value: 4.697600778811923e-60\n",
      "\n",
      "\n",
      "T-test between lr and svc\n",
      "T-Value: 2.782107\n",
      "P-Value: 0.00550233341333454\n",
      "\n",
      "\n",
      "**********************************************************\n",
      "T-test between rfc and gbc\n",
      "T-Value: 23.751255\n",
      "P-Value: 3.0703503117001965e-99\n",
      "\n",
      "\n",
      "T-test between rfc and knn\n",
      "T-Value: 27.447635\n",
      "P-Value: 4.441940791045255e-124\n",
      "\n",
      "\n",
      "T-test between rfc and lr\n",
      "T-Value: 17.505203\n",
      "P-Value: 4.697600778811923e-60\n",
      "\n",
      "\n",
      "T-test between rfc and svc\n",
      "T-Value: 20.107835\n",
      "P-Value: 8.656014493542773e-76\n",
      "\n",
      "\n",
      "**********************************************************\n",
      "T-test between svc and gbc\n",
      "T-Value: 3.340226\n",
      "P-Value: 0.0008680459123918103\n",
      "\n",
      "\n",
      "T-test between svc and knn\n",
      "T-Value: 7.704692\n",
      "P-Value: 3.150122884195948e-14\n",
      "\n",
      "\n",
      "T-test between svc and lr\n",
      "T-Value: -2.782107\n",
      "P-Value: 0.00550233341333454\n",
      "\n",
      "\n",
      "T-test between svc and rfc\n",
      "T-Value: -20.107835\n",
      "P-Value: 8.656014493542773e-76\n",
      "\n",
      "\n",
      "**********************************************************\n"
     ]
    }
   ],
   "source": [
    "# create a temp list of classifers\n",
    "temp = list(compare_df.columns)\n",
    "\n",
    "# Run T-test for all the classifers\n",
    "for x in compare_df.columns:\n",
    "    for y in temp:\n",
    "        if x!=y:\n",
    "            t_stat, p_val = scipy.stats.ttest_ind(compare_df[x], compare_df[y])\n",
    "            print('T-test between {} and {}'.format(x,y))\n",
    "            print('T-Value: {}'.format(round(t_stat, 6)))\n",
    "            print('P-Value: {}'.format( p_val))\n",
    "            print('\\n')\n",
    "    #temp.remove(temp[0])\n",
    "    print('**********************************************************')\n",
    "        "
   ]
  },
  {
   "cell_type": "markdown",
   "metadata": {
    "collapsed": true
   },
   "source": [
    "# Conclusion    \n",
    "    From the result, the Random Forest Classifier is the most accurate for this dataset. From summary statistic, it has the highest accuracy rate and least variance. And from the T-tests, RFC generally has smaller p-values and the t-values are also appearing to be more statistically significant in comparision to other classifiers."
   ]
  },
  {
   "cell_type": "code",
   "execution_count": null,
   "metadata": {
    "collapsed": true
   },
   "outputs": [],
   "source": []
  }
 ],
 "metadata": {
  "kernelspec": {
   "display_name": "Python 3",
   "language": "python",
   "name": "python3"
  },
  "language_info": {
   "codemirror_mode": {
    "name": "ipython",
    "version": 3
   },
   "file_extension": ".py",
   "mimetype": "text/x-python",
   "name": "python",
   "nbconvert_exporter": "python",
   "pygments_lexer": "ipython3",
   "version": "3.6.1"
  }
 },
 "nbformat": 4,
 "nbformat_minor": 2
}
